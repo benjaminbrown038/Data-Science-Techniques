{
 "cells": [
  {
   "cell_type": "code",
   "execution_count": 151,
   "metadata": {},
   "outputs": [],
   "source": [
    "import pandas as pd\n",
    "import numpy as np\n",
    "df_monthly = pd.read_csv('housing_in_london_monthly_variables.csv')\n",
    "df_yearly = pd.read_csv('housing_in_london_yearly_variables.csv')"
   ]
  },
  {
   "cell_type": "code",
   "execution_count": 152,
   "metadata": {},
   "outputs": [
    {
     "name": "stdout",
     "output_type": "stream",
     "text": [
      "Name of columns and type of data in column:\n",
      "\n",
      " date              object\n",
      "area              object\n",
      "average_price      int64\n",
      "code              object\n",
      "houses_sold      float64\n",
      "no_of_crimes     float64\n",
      "borough_flag       int64\n",
      "dtype: object\n",
      "\n",
      "\n",
      "Shape of data frame: (13549, 7)\n"
     ]
    }
   ],
   "source": [
    "print(\"Name of columns and type of data in column:\\n\\n\",df_monthly.dtypes)\n",
    "print(\"\\n\")\n",
    "print(\"Shape of data frame:\" , df_monthly.shape)"
   ]
  },
  {
   "cell_type": "code",
   "execution_count": 4,
   "metadata": {},
   "outputs": [
    {
     "ename": "NameError",
     "evalue": "name 'df_monthly' is not defined",
     "output_type": "error",
     "traceback": [
      "\u001b[0;31m---------------------------------------------------------------------------\u001b[0m",
      "\u001b[0;31mNameError\u001b[0m                                 Traceback (most recent call last)",
      "\u001b[0;32m<ipython-input-4-3c09c2201db4>\u001b[0m in \u001b[0;36m<module>\u001b[0;34m\u001b[0m\n\u001b[0;32m----> 1\u001b[0;31m \u001b[0mprint\u001b[0m\u001b[0;34m(\u001b[0m\u001b[0;34m\"Sum of duplicated data in borough_flag column: \"\u001b[0m\u001b[0;34m,\u001b[0m\u001b[0mdf_monthly\u001b[0m\u001b[0;34m.\u001b[0m\u001b[0mduplicated\u001b[0m\u001b[0;34m(\u001b[0m\u001b[0msubset\u001b[0m \u001b[0;34m=\u001b[0m \u001b[0;34m[\u001b[0m\u001b[0;34m'borough_flag'\u001b[0m\u001b[0;34m]\u001b[0m\u001b[0;34m)\u001b[0m\u001b[0;34m.\u001b[0m\u001b[0msum\u001b[0m\u001b[0;34m(\u001b[0m\u001b[0;34m)\u001b[0m\u001b[0;34m)\u001b[0m\u001b[0;34m\u001b[0m\u001b[0;34m\u001b[0m\u001b[0m\n\u001b[0m\u001b[1;32m      2\u001b[0m \u001b[0mprint\u001b[0m\u001b[0;34m(\u001b[0m\u001b[0;34m\"Number of unique values in 'code' column in data frame: \"\u001b[0m \u001b[0;34m,\u001b[0m \u001b[0mlen\u001b[0m\u001b[0;34m(\u001b[0m\u001b[0mdf_monthly\u001b[0m\u001b[0;34m.\u001b[0m\u001b[0mcode\u001b[0m\u001b[0;34m.\u001b[0m\u001b[0munique\u001b[0m\u001b[0;34m(\u001b[0m\u001b[0;34m)\u001b[0m\u001b[0;34m)\u001b[0m\u001b[0;34m)\u001b[0m\u001b[0;34m\u001b[0m\u001b[0;34m\u001b[0m\u001b[0m\n\u001b[1;32m      3\u001b[0m \u001b[0;31m#df_monthly=df_monthly.drop_duplicates(keep = False)\u001b[0m\u001b[0;34m\u001b[0m\u001b[0;34m\u001b[0m\u001b[0;34m\u001b[0m\u001b[0m\n\u001b[1;32m      4\u001b[0m \u001b[0mprint\u001b[0m\u001b[0;34m(\u001b[0m\u001b[0;34m\"Number of unique values in 'date' column in data frame: \"\u001b[0m \u001b[0;34m,\u001b[0m \u001b[0mlen\u001b[0m\u001b[0;34m(\u001b[0m\u001b[0mdf_monthly\u001b[0m\u001b[0;34m.\u001b[0m\u001b[0mdate\u001b[0m\u001b[0;34m.\u001b[0m\u001b[0munique\u001b[0m\u001b[0;34m(\u001b[0m\u001b[0;34m)\u001b[0m\u001b[0;34m)\u001b[0m\u001b[0;34m)\u001b[0m\u001b[0;34m\u001b[0m\u001b[0;34m\u001b[0m\u001b[0m\n\u001b[1;32m      5\u001b[0m \u001b[0mprint\u001b[0m\u001b[0;34m(\u001b[0m\u001b[0;34m\"Number of unique values in 'area' column in data frame: \"\u001b[0m \u001b[0;34m,\u001b[0m \u001b[0mlen\u001b[0m\u001b[0;34m(\u001b[0m\u001b[0mdf_monthly\u001b[0m\u001b[0;34m.\u001b[0m\u001b[0marea\u001b[0m\u001b[0;34m.\u001b[0m\u001b[0munique\u001b[0m\u001b[0;34m(\u001b[0m\u001b[0;34m)\u001b[0m\u001b[0;34m)\u001b[0m\u001b[0;34m)\u001b[0m\u001b[0;34m\u001b[0m\u001b[0;34m\u001b[0m\u001b[0m\n",
      "\u001b[0;31mNameError\u001b[0m: name 'df_monthly' is not defined"
     ]
    }
   ],
   "source": [
    "print(\"Sum of duplicated data in borough_flag column: \",df_monthly.duplicated(subset = ['borough_flag']).sum())\n",
    "print(\"Number of unique values in 'code' column in data frame: \" , len(df_monthly.code.unique()))\n",
    "#df_monthly=df_monthly.drop_duplicates(keep = False)\n",
    "print(\"Number of unique values in 'date' column in data frame: \" , len(df_monthly.date.unique()))\n",
    "print(\"Number of unique values in 'area' column in data frame: \" , len(df_monthly.area.unique()))\n",
    "print(\"Number of unique values in 'code' column in data frame: \" , len(df_monthly.code.unique()))\n",
    "print(\"Number of unique values in 'houses_sold' column in data frame: \" , len(df_monthly.houses_sold.unique()))\n",
    "print(\"Number of unique values in 'no_of_crimes' column in data frame: \" , len(df_monthly.no_of_crimes.unique()))\n",
    "print(\"Number of unique values in 'borough_flag' column in data frame: \" , len(df_monthly.borough_flag.unique()))\n",
    "print(\"Number of duplicated vaules in 'average price' column in data frame: \" , len(df_monthly.average_price.duplicated()))\n",
    "print(\"Number of duplicated values in houses_sold column in data frame: \" , len(df_monthly.houses_sold.duplicated()))\n",
    "print(\"Number of values in each column in data frame:\\n\" , df_monthly.count())\n",
    "#print(\"Dropping duplicated rows from data frame: \" , df_monthly = df_monthly.drop_duplicates())\n",
    "print(\"Number of null values in data frame:\\n\" , df_monthly.isnull().sum())\n",
    "print(\"Mean value for the no_of_crimes to replace Nan values:\\n\" , df_monthly.no_of_crimes.mean())\n",
    "print(\"Mean value for the houses_sold to replace Nan values:\\n\" , df_monthly.houses_sold.mean())\n",
    "print(\"Plot of no_of_crimes before the null values are filled:\\n\")\n",
    "df_monthly.no_of_crimes.plot()\n",
    "no_of_crimes_mean = df_monthly.no_of_crimes.mean()\n",
    "df_monthly.no_of_crimes = df_monthly.no_of_crimes.fillna(mean)\n",
    "print(\"Plot of no_of_crimes after the null values are filled:\\n\")\n",
    "df_monthly.no_of_crimes.plot()\n",
    "print(\"Plot of houses_sold before the null values are filled:\\n\")\n",
    "df_monthly.houses_sold.plot()\n",
    "houses_sold_mean = df_monthly.houses_sold.mean()\n",
    "df_monthly.houses_sold = df_monthly.houses_sold.fillna(houses_sold_mean)\n",
    "print(\"Plot of houses_sold after the null values are filled:\\n\")\n",
    "df_monthly.houses_sold.plot()\n",
    "#df_monthly['borough_flag'].plot()\n",
    "flags = df_monthly.borough_flag\n",
    "date = df_monthly.date\n",
    "average_price = df_monthly.average_price\n",
    "no_of_crimes = df_monthly.no_of_crimes\n",
    "houses_sold = df_monthly.houses_sold\n",
    "len(df_monthly.columns)\n",
    "g = FacetGrid(df_monthly,col='average_price',height = 3.5,aspect = .65)\n",
    "g.map(sns.lineplot,\"date\")\n",
    "sns.lineplot(x=date,y=no_of_crimes)\n",
    "sns.lineplot(x=date,y=houses_sold)\n",
    "# plotting data before and after replacing Nan values with mean\n",
    "df_monthly.date.duplicated()\n",
    "df_monthly.area.duplicated()\n",
    "df_monthly.code.duplicated()\n",
    "df_monthly.info()\n",
    "df_monthly.borough_flag.plot()\n",
    "df_monthly.houses_sold.plot()\n",
    "df_monthly.average_price.plot()\n",
    "# plotting data before and after replacing Nan values with mean\n",
    "df_monthly.no_of_crimes.plot()\n",
    "df_monthly.borough_flag.mean()\n",
    "df_monthly.borough_flag.std()\n",
    "# count 0's and 1's in column\n",
    "counts = flags.value_counts()\n",
    "counts[0], counts[1]\n",
    "df_monthly = df_monthly.dropna()\n",
    "df_monthly.count()\n",
    "print(df_monthly.isnull().sum())\n",
    "import seaborn as sns \n",
    "sns.boxplot(x=df_monthly.average_price)\n",
    "sns.boxplot(x=df_monthly.houses_sold)\n",
    "sns.boxplot(x=df_monthly.no_of_crimes)\n",
    "sns.boxplot(x=df_monthly.borough_flag)\n",
    "# statistics \n",
    "q1 = df_monthly.quantile(0.25)\n",
    "q3 = df_monthly.quantile(0.75)\n",
    "iqr = q3-q1\n",
    "print(iqr)\n",
    "df_monthly = df_monthly[~((df_monthly < (q1-1.5 * iqr)) | (df_monthly > (q3 + 1.5 * iqr))).any(axis=1)]\n",
    "df_monthly.shape\n",
    "df_monthly.average_price.value_counts().nlargest(40).plot(kind='bar',figsize=(10,5))\n",
    "plt.title(\"Average Price\")\n",
    "plt.xlabel(\"Price\")\n",
    "plt.ylabel(\"Not sure\")\n",
    "df_monthly.houses_sold.value_counts().nlargest(40).plot(kind='bar',figsize=(10,5))\n",
    "plt.title(\"Houses Sold\")\n",
    "plt.xlabel(\"Houses Sold\")\n",
    "plt.ylabel(\"Not sure\")\n",
    "df_monthly.no_of_crimes.value_counts().nlargest(40).plot(kind='bar',figsize=(10,5))\n",
    "plt.title(\"Number of Crimes\")\n",
    "plt.xlabel(\"No. of crimes\")\n",
    "plt.ylabel(\"Not sure\")\n",
    "plt.figure(figsize = (20,10))\n",
    "c = df_monthly.corr()\n",
    "sns.heatmap(c,cmap=\"BrBG\",annot=True)\n",
    "c\n",
    "fig, ax = plt.subplots(figsize = (10,6))\n",
    "ax.scatter(df_monthly.date,df_monthly.average_price)\n",
    "ax.set_xlabel('date')\n",
    "ax.set_ylabel('average_price')\n",
    "plt.show()"
   ]
  },
  {
   "cell_type": "code",
   "execution_count": null,
   "metadata": {},
   "outputs": [],
   "source": []
  }
 ],
 "metadata": {
  "kernelspec": {
   "display_name": "Python 3",
   "language": "python",
   "name": "python3"
  },
  "language_info": {
   "codemirror_mode": {
    "name": "ipython",
    "version": 3
   },
   "file_extension": ".py",
   "mimetype": "text/x-python",
   "name": "python",
   "nbconvert_exporter": "python",
   "pygments_lexer": "ipython3",
   "version": "3.6.8"
  }
 },
 "nbformat": 4,
 "nbformat_minor": 2
}
