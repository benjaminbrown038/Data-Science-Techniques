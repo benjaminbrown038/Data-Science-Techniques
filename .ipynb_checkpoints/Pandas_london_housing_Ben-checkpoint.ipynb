{
 "cells": [
  {
   "cell_type": "code",
   "execution_count": 151,
   "metadata": {},
   "outputs": [],
   "source": [
    "import pandas as pd\n",
    "import numpy as np\n",
    "df_monthly = pd.read_csv('housing_in_london_monthly_variables.csv')\n",
    "df_yearly = pd.read_csv('housing_in_london_yearly_variables.csv')"
   ]
  },
  {
   "cell_type": "code",
   "execution_count": 152,
   "metadata": {},
   "outputs": [
    {
     "name": "stdout",
     "output_type": "stream",
     "text": [
      "Name of columns and type of data in column:\n",
      "\n",
      " date              object\n",
      "area              object\n",
      "average_price      int64\n",
      "code              object\n",
      "houses_sold      float64\n",
      "no_of_crimes     float64\n",
      "borough_flag       int64\n",
      "dtype: object\n",
      "\n",
      "\n",
      "Shape of data frame: (13549, 7)\n"
     ]
    }
   ],
   "source": [
    "print(\"Name of columns and type of data in column:\\n\\n\",df_monthly.dtypes)\n",
    "print(\"\\n\")\n",
    "print(\"Shape of data frame:\" , df_monthly.shape)"
   ]
  },
  {
   "cell_type": "code",
   "execution_count": 10,
   "metadata": {},
   "outputs": [
    {
     "name": "stdout",
     "output_type": "stream",
     "text": [
      "Sum of duplicated data in borough_flag column:  13547\n",
      "Number of unique values in 'code' column in data frame:  45\n",
      "Number of unique values in 'date' column in data frame:  301\n",
      "Number of unique values in 'area' column in data frame:  45\n",
      "Number of unique values in 'houses_sold' column in data frame:  3947\n",
      "Number of unique values in 'no_of_crimes' column in data frame:  2670\n",
      "Number of unique values in 'borough_flag' column in data frame:  2\n",
      "Number of duplicated vaules in 'average price' column in data frame:  13549\n",
      "Number of duplicated values in houses_sold column in data frame:  13549\n",
      "Number of values in each column in data frame:\n",
      " date             13549\n",
      "area             13549\n",
      "average_price    13549\n",
      "code             13549\n",
      "houses_sold      13455\n",
      "no_of_crimes      7439\n",
      "borough_flag     13549\n",
      "dtype: int64\n",
      "Number of null values in data frame:\n",
      " date                0\n",
      "area                0\n",
      "average_price       0\n",
      "code                0\n",
      "houses_sold        94\n",
      "no_of_crimes     6110\n",
      "borough_flag        0\n",
      "dtype: int64\n",
      "Mean value for the no_of_crimes to replace Nan values:\n",
      " 2158.3520634493884\n",
      "Mean value for the houses_sold to replace Nan values:\n",
      " 3893.9941285767372\n",
      "Plot of no_of_crimes before the null values are filled:\n",
      "\n"
     ]
    },
    {
     "ename": "NameError",
     "evalue": "name 'mean' is not defined",
     "output_type": "error",
     "traceback": [
      "\u001b[0;31m---------------------------------------------------------------------------\u001b[0m",
      "\u001b[0;31mNameError\u001b[0m                                 Traceback (most recent call last)",
      "\u001b[0;32m<ipython-input-10-6454e674343d>\u001b[0m in \u001b[0;36m<module>\u001b[0;34m\u001b[0m\n\u001b[1;32m     16\u001b[0m \u001b[0mdf_monthly\u001b[0m\u001b[0;34m.\u001b[0m\u001b[0mno_of_crimes\u001b[0m\u001b[0;34m.\u001b[0m\u001b[0mplot\u001b[0m\u001b[0;34m(\u001b[0m\u001b[0;34m)\u001b[0m\u001b[0;34m\u001b[0m\u001b[0;34m\u001b[0m\u001b[0m\n\u001b[1;32m     17\u001b[0m \u001b[0mno_of_crimes_mean\u001b[0m \u001b[0;34m=\u001b[0m \u001b[0mdf_monthly\u001b[0m\u001b[0;34m.\u001b[0m\u001b[0mno_of_crimes\u001b[0m\u001b[0;34m.\u001b[0m\u001b[0mmean\u001b[0m\u001b[0;34m(\u001b[0m\u001b[0;34m)\u001b[0m\u001b[0;34m\u001b[0m\u001b[0;34m\u001b[0m\u001b[0m\n\u001b[0;32m---> 18\u001b[0;31m \u001b[0mdf_monthly\u001b[0m\u001b[0;34m.\u001b[0m\u001b[0mno_of_crimes\u001b[0m \u001b[0;34m=\u001b[0m \u001b[0mdf_monthly\u001b[0m\u001b[0;34m.\u001b[0m\u001b[0mno_of_crimes\u001b[0m\u001b[0;34m.\u001b[0m\u001b[0mfillna\u001b[0m\u001b[0;34m(\u001b[0m\u001b[0mmean\u001b[0m\u001b[0;34m)\u001b[0m\u001b[0;34m\u001b[0m\u001b[0;34m\u001b[0m\u001b[0m\n\u001b[0m\u001b[1;32m     19\u001b[0m \u001b[0mprint\u001b[0m\u001b[0;34m(\u001b[0m\u001b[0;34m\"Plot of no_of_crimes after the null values are filled:\\n\"\u001b[0m\u001b[0;34m)\u001b[0m\u001b[0;34m\u001b[0m\u001b[0;34m\u001b[0m\u001b[0m\n\u001b[1;32m     20\u001b[0m \u001b[0mdf_monthly\u001b[0m\u001b[0;34m.\u001b[0m\u001b[0mno_of_crimes\u001b[0m\u001b[0;34m.\u001b[0m\u001b[0mplot\u001b[0m\u001b[0;34m(\u001b[0m\u001b[0;34m)\u001b[0m\u001b[0;34m\u001b[0m\u001b[0;34m\u001b[0m\u001b[0m\n",
      "\u001b[0;31mNameError\u001b[0m: name 'mean' is not defined"
     ]
    },
    {
     "data": {
      "image/png": "[encoded data removed]",
      "text/plain": [
       "<Figure size 432x288 with 1 Axes>"
      ]
     },
     "metadata": {
      "needs_background": "light"
     },
     "output_type": "display_data"
    }
   ],
   "source": [
    "print(\"Sum of duplicated data in borough_flag column: \" , df_monthly.duplicated(subset = ['borough_flag']).sum())\n",
    "print(\"Number of unique values in 'code' column in data frame: \" , len(df_monthly.code.unique()))\n",
    "print(\"Number of unique values in 'date' column in data frame: \" , len(df_monthly.date.unique()))\n",
    "print(\"Number of unique values in 'area' column in data frame: \" , len(df_monthly.area.unique()))\n",
    "print(\"Number of unique values in 'houses_sold' column in data frame: \" , len(df_monthly.houses_sold.unique()))\n",
    "print(\"Number of unique values in 'no_of_crimes' column in data frame: \" , len(df_monthly.no_of_crimes.unique()))\n",
    "print(\"Number of unique values in 'borough_flag' column in data frame: \" , len(df_monthly.borough_flag.unique()))\n",
    "print(\"Number of duplicated vaules in 'average price' column in data frame: \" , len(df_monthly.average_price.duplicated()))\n",
    "print(\"Number of duplicated values in houses_sold column in data frame: \" , len(df_monthly.houses_sold.duplicated()))\n",
    "print(\"Number of values in each column in data frame:\\n\" , df_monthly.count())\n",
    "print(\"Number of null values in data frame:\\n\" , df_monthly.isnull().sum())\n",
    "print(\"Mean value for the no_of_crimes to replace Nan values:\\n\" , df_monthly.no_of_crimes.mean())\n",
    "print(\"Mean value for the houses_sold to replace Nan values:\\n\" , df_monthly.houses_sold.mean())\n",
    "print(\"Plot of no_of_crimes before the null values are filled:\\n\")\n",
    "df_monthly.no_of_crimes.plot()\n",
    "no_of_crimes_mean = df_monthly.no_of_crimes.mean()\n",
    "df_monthly.no_of_crimes = df_monthly.no_of_crimes.fillna(mean)\n",
    "print(\"Plot of no_of_crimes after the null values are filled:\\n\")\n",
    "df_monthly.no_of_crimes.plot()\n",
    "print(\"Plot of houses_sold before the null values are filled:\\n\")\n",
    "df_monthly.houses_sold.plot()\n",
    "houses_sold_mean = df_monthly.houses_sold.mean()\n",
    "df_monthly.houses_sold = df_monthly.houses_sold.fillna(houses_sold_mean)\n",
    "print(\"Plot of houses_sold after the null values are filled:\\n\")\n",
    "df_monthly.houses_sold.plot()\n",
    "# combinging multiple graphs in one grid \n",
    "g = FacetGrid(df_monthly,col='average_price',height = 3.5,aspect = .65)\n",
    "g.map(sns.lineplot,\"date\")\n",
    "# \n",
    "sns.lineplot(x=date,y=no_of_crimes)\n",
    "sns.lineplot(x=date,y=houses_sold)\n",
    "# plotting data before and after replacing Nan values with mean\n",
    "df_monthly.info()\n",
    "# plotting data before and after replacing Nan values with mean\n",
    "df_monthly.no_of_crimes.plot()\n",
    "df_monthly.borough_flag.mean()\n",
    "df_monthly.borough_flag.std()\n",
    "# count 0's and 1's in column\n",
    "counts = flags.value_counts()\n",
    "counts[0], counts[1]\n",
    "df_monthly = df_monthly.dropna()\n",
    "df_monthly.count()\n",
    "print(df_monthly.isnull().sum())\n",
    "sns.boxplot(x=df_monthly.average_price)\n",
    "sns.boxplot(x=df_monthly.houses_sold)\n",
    "sns.boxplot(x=df_monthly.no_of_crimes)\n",
    "sns.boxplot(x=df_monthly.borough_flag)\n",
    "# statistics \n",
    "q1 = df_monthly.quantile(0.25)\n",
    "q3 = df_monthly.quantile(0.75)\n",
    "iqr = q3-q1\n",
    "print(iqr)\n",
    "df_monthly = df_monthly[~((df_monthly < (q1-1.5 * iqr)) | (df_monthly > (q3 + 1.5 * iqr))).any(axis=1)]\n",
    "df_monthly.shape\n",
    "fig,axs = plt.subplots(3)\n",
    "fig.suptitle('Comparing Data')\n",
    "df_monthly.average_price.value_counts().nlargest(40).plot(kind='bar',figsize=(10,5))\n",
    "plt.title(\"Average Price\")\n",
    "plt.xlabel(\"Price\")\n",
    "plt.ylabel(\"Not sure\")\n",
    "\n",
    "df_monthly.houses_sold.value_counts().nlargest(40).plot(kind='bar',figsize=(10,5))\n",
    "plt.title(\"Houses Sold\")\n",
    "plt.xlabel(\"Houses Sold\")\n",
    "plt.ylabel(\"Not sure\")\n",
    "\n",
    "df_monthly.no_of_crimes.value_counts().nlargest(40).plot(kind='bar',figsize=(10,5))\n",
    "plt.title(\"Number of Crimes\")\n",
    "plt.xlabel(\"No. of crimes\")\n",
    "plt.ylabel(\"Not sure\")\n",
    "\n",
    "plt.figure(figsize = (20,10))\n",
    "c = df_monthly.corr()\n",
    "sns.heatmap(c,cmap=\"BrBG\",annot=True)\n",
    "c\n",
    "\n",
    "fig, ax = plt.subplots(figsize = (10,6))\n",
    "ax.scatter(df_monthly.date,df_monthly.average_price)\n",
    "ax.set_xlabel('date')\n",
    "ax.set_ylabel('average_price')\n",
    "plt.show()"
   ]
  },
  {
   "cell_type": "code",
   "execution_count": 19,
   "metadata": {},
   "outputs": [
    {
     "data": {
      "text/plain": [
       "[<matplotlib.lines.Line2D at 0x16cb1a128>]"
      ]
     },
     "execution_count": 19,
     "metadata": {},
     "output_type": "execute_result"
    },
    {
     "data": {
      "image/png": "[encoded data removed]",
      "text/plain": [
       "<Figure size 432x288 with 3 Axes>"
      ]
     },
     "metadata": {
      "needs_background": "light"
     },
     "output_type": "display_data"
    }
   ],
   "source": [
    "fig,axs = plt.subplots(3)\n",
    "fig.suptitle('Comparing Data')\n",
    "axs[0].plot(df_monthly.date,df_monthly.houses_sold)\n",
    "axs[1].plot(df_monthly.date,df_monthly.average_price)\n",
    "axs[2].plot(df_monthly.date,df_monthly.no_of_crimes)"
   ]
  },
  {
   "cell_type": "code",
   "execution_count": 10,
   "metadata": {},
   "outputs": [
    {
     "data": {
      "text/html": [
       "<div>\n",
       "<style scoped>\n",
       "    .dataframe tbody tr th:only-of-type {\n",
       "        vertical-align: middle;\n",
       "    }\n",
       "\n",
       "    .dataframe tbody tr th {\n",
       "        vertical-align: top;\n",
       "    }\n",
       "\n",
       "    .dataframe thead th {\n",
       "        text-align: right;\n",
       "    }\n",
       "</style>\n",
       "<table border=\"1\" class=\"dataframe\">\n",
       "  <thead>\n",
       "    <tr style=\"text-align: right;\">\n",
       "      <th></th>\n",
       "      <th>customerid</th>\n",
       "      <th>age</th>\n",
       "      <th>salary</th>\n",
       "      <th>balance</th>\n",
       "      <th>marital</th>\n",
       "      <th>jobedu</th>\n",
       "      <th>targeted</th>\n",
       "      <th>default</th>\n",
       "      <th>housing</th>\n",
       "      <th>loan</th>\n",
       "      <th>contact</th>\n",
       "      <th>day</th>\n",
       "      <th>month</th>\n",
       "      <th>duration</th>\n",
       "      <th>campaign</th>\n",
       "      <th>pdays</th>\n",
       "      <th>previous</th>\n",
       "      <th>poutcome</th>\n",
       "      <th>response</th>\n",
       "    </tr>\n",
       "  </thead>\n",
       "  <tbody>\n",
       "    <tr>\n",
       "      <th>0</th>\n",
       "      <td>1</td>\n",
       "      <td>58.0</td>\n",
       "      <td>100000</td>\n",
       "      <td>2143</td>\n",
       "      <td>married</td>\n",
       "      <td>management,tertiary</td>\n",
       "      <td>yes</td>\n",
       "      <td>no</td>\n",
       "      <td>yes</td>\n",
       "      <td>no</td>\n",
       "      <td>unknown</td>\n",
       "      <td>5</td>\n",
       "      <td>may, 2017</td>\n",
       "      <td>261 sec</td>\n",
       "      <td>1</td>\n",
       "      <td>-1</td>\n",
       "      <td>0</td>\n",
       "      <td>unknown</td>\n",
       "      <td>no</td>\n",
       "    </tr>\n",
       "    <tr>\n",
       "      <th>1</th>\n",
       "      <td>2</td>\n",
       "      <td>44.0</td>\n",
       "      <td>60000</td>\n",
       "      <td>29</td>\n",
       "      <td>single</td>\n",
       "      <td>technician,secondary</td>\n",
       "      <td>yes</td>\n",
       "      <td>no</td>\n",
       "      <td>yes</td>\n",
       "      <td>no</td>\n",
       "      <td>unknown</td>\n",
       "      <td>5</td>\n",
       "      <td>may, 2017</td>\n",
       "      <td>151 sec</td>\n",
       "      <td>1</td>\n",
       "      <td>-1</td>\n",
       "      <td>0</td>\n",
       "      <td>unknown</td>\n",
       "      <td>no</td>\n",
       "    </tr>\n",
       "    <tr>\n",
       "      <th>2</th>\n",
       "      <td>3</td>\n",
       "      <td>33.0</td>\n",
       "      <td>120000</td>\n",
       "      <td>2</td>\n",
       "      <td>married</td>\n",
       "      <td>entrepreneur,secondary</td>\n",
       "      <td>yes</td>\n",
       "      <td>no</td>\n",
       "      <td>yes</td>\n",
       "      <td>yes</td>\n",
       "      <td>unknown</td>\n",
       "      <td>5</td>\n",
       "      <td>may, 2017</td>\n",
       "      <td>76 sec</td>\n",
       "      <td>1</td>\n",
       "      <td>-1</td>\n",
       "      <td>0</td>\n",
       "      <td>unknown</td>\n",
       "      <td>no</td>\n",
       "    </tr>\n",
       "    <tr>\n",
       "      <th>3</th>\n",
       "      <td>4</td>\n",
       "      <td>47.0</td>\n",
       "      <td>20000</td>\n",
       "      <td>1506</td>\n",
       "      <td>married</td>\n",
       "      <td>blue-collar,unknown</td>\n",
       "      <td>no</td>\n",
       "      <td>no</td>\n",
       "      <td>yes</td>\n",
       "      <td>no</td>\n",
       "      <td>unknown</td>\n",
       "      <td>5</td>\n",
       "      <td>may, 2017</td>\n",
       "      <td>92 sec</td>\n",
       "      <td>1</td>\n",
       "      <td>-1</td>\n",
       "      <td>0</td>\n",
       "      <td>unknown</td>\n",
       "      <td>no</td>\n",
       "    </tr>\n",
       "    <tr>\n",
       "      <th>4</th>\n",
       "      <td>5</td>\n",
       "      <td>33.0</td>\n",
       "      <td>0</td>\n",
       "      <td>1</td>\n",
       "      <td>single</td>\n",
       "      <td>unknown,unknown</td>\n",
       "      <td>no</td>\n",
       "      <td>no</td>\n",
       "      <td>no</td>\n",
       "      <td>no</td>\n",
       "      <td>unknown</td>\n",
       "      <td>5</td>\n",
       "      <td>may, 2017</td>\n",
       "      <td>198 sec</td>\n",
       "      <td>1</td>\n",
       "      <td>-1</td>\n",
       "      <td>0</td>\n",
       "      <td>unknown</td>\n",
       "      <td>no</td>\n",
       "    </tr>\n",
       "  </tbody>\n",
       "</table>\n",
       "</div>"
      ],
      "text/plain": [
       "   customerid   age  salary  balance  marital                  jobedu  \\\n",
       "0           1  58.0  100000     2143  married     management,tertiary   \n",
       "1           2  44.0   60000       29   single    technician,secondary   \n",
       "2           3  33.0  120000        2  married  entrepreneur,secondary   \n",
       "3           4  47.0   20000     1506  married     blue-collar,unknown   \n",
       "4           5  33.0       0        1   single         unknown,unknown   \n",
       "\n",
       "  targeted default housing loan  contact  day      month duration  campaign  \\\n",
       "0      yes      no     yes   no  unknown    5  may, 2017  261 sec         1   \n",
       "1      yes      no     yes   no  unknown    5  may, 2017  151 sec         1   \n",
       "2      yes      no     yes  yes  unknown    5  may, 2017   76 sec         1   \n",
       "3       no      no     yes   no  unknown    5  may, 2017   92 sec         1   \n",
       "4       no      no      no   no  unknown    5  may, 2017  198 sec         1   \n",
       "\n",
       "   pdays  previous poutcome response  \n",
       "0     -1         0  unknown       no  \n",
       "1     -1         0  unknown       no  \n",
       "2     -1         0  unknown       no  \n",
       "3     -1         0  unknown       no  \n",
       "4     -1         0  unknown       no  "
      ]
     },
     "execution_count": 10,
     "metadata": {},
     "output_type": "execute_result"
    }
   ],
   "source": [
    "import numpy as np\n",
    "import pandas as pd\n",
    "import seaborn as sns\n",
    "import matplotlib.pyplot as plt\n",
    "%matplotlib inline\n",
    "sns.set(color_codes = True)\n",
    "\n",
    "data = pd.read_csv(\"marketing_analysis.csv\", skiprows=2)\n",
    "data.head(5)"
   ]
  },
  {
   "cell_type": "code",
   "execution_count": 28,
   "metadata": {
    "scrolled": true
   },
   "outputs": [
    {
     "name": "stderr",
     "output_type": "stream",
     "text": [
      "/anaconda3/lib/python3.6/site-packages/ipykernel_launcher.py:4: UserWarning: Pandas doesn't allow columns to be created via a new attribute name - see https://pandas.pydata.org/pandas-docs/stable/indexing.html#attribute-access\n",
      "  after removing the cwd from sys.path.\n",
      "/anaconda3/lib/python3.6/site-packages/ipykernel_launcher.py:5: UserWarning: Pandas doesn't allow columns to be created via a new attribute name - see https://pandas.pydata.org/pandas-docs/stable/indexing.html#attribute-access\n",
      "  \"\"\"\n"
     ]
    },
    {
     "data": {
      "image/png": "[encoded data removed]",
      "text/plain": [
       "<Figure size 432x288 with 1 Axes>"
      ]
     },
     "metadata": {
      "needs_background": "light"
     },
     "output_type": "display_data"
    },
    {
     "ename": "AttributeError",
     "evalue": "'DataFrame' object has no attribute 'education'",
     "output_type": "error",
     "traceback": [
      "\u001b[0;31m---------------------------------------------------------------------------\u001b[0m",
      "\u001b[0;31mAttributeError\u001b[0m                            Traceback (most recent call last)",
      "\u001b[0;32m<ipython-input-28-0d1041de3234>\u001b[0m in \u001b[0;36m<module>\u001b[0;34m\u001b[0m\n\u001b[1;32m     14\u001b[0m \u001b[0mmonth_mode\u001b[0m \u001b[0;34m=\u001b[0m \u001b[0mdata\u001b[0m\u001b[0;34m.\u001b[0m\u001b[0mmonth\u001b[0m\u001b[0;34m.\u001b[0m\u001b[0mmode\u001b[0m\u001b[0;34m(\u001b[0m\u001b[0;34m)\u001b[0m\u001b[0;34m\u001b[0m\u001b[0;34m\u001b[0m\u001b[0m\n\u001b[1;32m     15\u001b[0m \u001b[0mdata\u001b[0m\u001b[0;34m.\u001b[0m\u001b[0mmonth\u001b[0m\u001b[0;34m.\u001b[0m\u001b[0mfillna\u001b[0m\u001b[0;34m(\u001b[0m\u001b[0mmonth_mode\u001b[0m\u001b[0;34m,\u001b[0m\u001b[0minplace\u001b[0m\u001b[0;34m=\u001b[0m\u001b[0;32mTrue\u001b[0m\u001b[0;34m)\u001b[0m\u001b[0;34m\u001b[0m\u001b[0;34m\u001b[0m\u001b[0m\n\u001b[0;32m---> 16\u001b[0;31m \u001b[0mdata\u001b[0m\u001b[0;34m.\u001b[0m\u001b[0meducation\u001b[0m\u001b[0;34m.\u001b[0m\u001b[0mvalue_counts\u001b[0m\u001b[0;34m(\u001b[0m\u001b[0mnormalize\u001b[0m\u001b[0;34m=\u001b[0m\u001b[0;32mTrue\u001b[0m\u001b[0;34m)\u001b[0m\u001b[0;34m\u001b[0m\u001b[0;34m\u001b[0m\u001b[0m\n\u001b[0m\u001b[1;32m     17\u001b[0m \u001b[0mdata\u001b[0m\u001b[0;34m.\u001b[0m\u001b[0meducation\u001b[0m\u001b[0;34m.\u001b[0m\u001b[0mvalue_counts\u001b[0m\u001b[0;34m(\u001b[0m\u001b[0mnormalize\u001b[0m\u001b[0;34m=\u001b[0m\u001b[0;32mTrue\u001b[0m\u001b[0;34m)\u001b[0m\u001b[0;34m.\u001b[0m\u001b[0mplot\u001b[0m\u001b[0;34m.\u001b[0m\u001b[0mpie\u001b[0m\u001b[0;34m(\u001b[0m\u001b[0;34m)\u001b[0m\u001b[0;34m\u001b[0m\u001b[0;34m\u001b[0m\u001b[0m\n\u001b[1;32m     18\u001b[0m \u001b[0mdata\u001b[0m\u001b[0;34m.\u001b[0m\u001b[0msalary\u001b[0m\u001b[0;34m.\u001b[0m\u001b[0mdescribe\u001b[0m\u001b[0;34m(\u001b[0m\u001b[0;34m)\u001b[0m\u001b[0;34m\u001b[0m\u001b[0;34m\u001b[0m\u001b[0m\n",
      "\u001b[0;32m/anaconda3/lib/python3.6/site-packages/pandas/core/generic.py\u001b[0m in \u001b[0;36m__getattr__\u001b[0;34m(self, name)\u001b[0m\n\u001b[1;32m   5178\u001b[0m             \u001b[0;32mif\u001b[0m \u001b[0mself\u001b[0m\u001b[0;34m.\u001b[0m\u001b[0m_info_axis\u001b[0m\u001b[0;34m.\u001b[0m\u001b[0m_can_hold_identifiers_and_holds_name\u001b[0m\u001b[0;34m(\u001b[0m\u001b[0mname\u001b[0m\u001b[0;34m)\u001b[0m\u001b[0;34m:\u001b[0m\u001b[0;34m\u001b[0m\u001b[0;34m\u001b[0m\u001b[0m\n\u001b[1;32m   5179\u001b[0m                 \u001b[0;32mreturn\u001b[0m \u001b[0mself\u001b[0m\u001b[0;34m[\u001b[0m\u001b[0mname\u001b[0m\u001b[0;34m]\u001b[0m\u001b[0;34m\u001b[0m\u001b[0;34m\u001b[0m\u001b[0m\n\u001b[0;32m-> 5180\u001b[0;31m             \u001b[0;32mreturn\u001b[0m \u001b[0mobject\u001b[0m\u001b[0;34m.\u001b[0m\u001b[0m__getattribute__\u001b[0m\u001b[0;34m(\u001b[0m\u001b[0mself\u001b[0m\u001b[0;34m,\u001b[0m \u001b[0mname\u001b[0m\u001b[0;34m)\u001b[0m\u001b[0;34m\u001b[0m\u001b[0;34m\u001b[0m\u001b[0m\n\u001b[0m\u001b[1;32m   5181\u001b[0m \u001b[0;34m\u001b[0m\u001b[0m\n\u001b[1;32m   5182\u001b[0m     \u001b[0;32mdef\u001b[0m \u001b[0m__setattr__\u001b[0m\u001b[0;34m(\u001b[0m\u001b[0mself\u001b[0m\u001b[0;34m,\u001b[0m \u001b[0mname\u001b[0m\u001b[0;34m,\u001b[0m \u001b[0mvalue\u001b[0m\u001b[0;34m)\u001b[0m\u001b[0;34m:\u001b[0m\u001b[0;34m\u001b[0m\u001b[0;34m\u001b[0m\u001b[0m\n",
      "\u001b[0;31mAttributeError\u001b[0m: 'DataFrame' object has no attribute 'education'"
     ]
    }
   ],
   "source": [
    "data = pd.read_csv(\"marketing_analysis.csv\", skiprows=2)\n",
    "data.head(5)\n",
    "data.drop('customerid', axis = 1, inplace=True)\n",
    "data.job = data.jobedu.apply(lambda x: x.split(\",\")[0])\n",
    "data.education = data.jobedu.apply(lambda x: x.split(\",\")[1])\n",
    "data.drop('jobedu',axis = 1, inplace = True)\n",
    "data.job.value_counts(normalize=True)\n",
    "data.job.value_counts(normalize=True).plot.barh()\n",
    "plt.show()\n",
    "\n"
   ]
  },
  {
   "cell_type": "code",
   "execution_count": null,
   "metadata": {},
   "outputs": [],
   "source": [
    "data = data[~data.age.isnull()].copy()\n",
    "data = data[~data.month.isnull()].copy()\n",
    "data = data[~data.response.isnull()].copy()\n",
    "data.isnull().sum()\n",
    "month_mode = data.month.mode()\n",
    "data.month.fillna(month_mode,inplace=True)\n",
    "data.education.value_counts(normalize=True)\n",
    "data.education.value_counts(normalize=True).plot.pie()\n",
    "data.salary.describe()\n",
    "plt.scatter(data.salary,data.balance)\n",
    "plt.show()\n",
    "data.plot.scatter(x=\"age\",y=\"balance\")\n",
    "plt.show()\n",
    "sns.pairplot(data=data,vars=['salary','balance','age'])\n",
    "plt.show()\n",
    "data[['age','salary','balance']].corr()\n",
    "sns.heatmap(data[['age','salary','balance']].corr(),annot=True,cmap='Reds')\n",
    "data.groupby('response')['salary'].mean()\n",
    "data.groupby('response')['salary'].median()\n",
    "sns.boxplot(data.response,data.salary)\n",
    "plt.show()\n",
    "data['response_rate'] = np.where(data.response=='yes',1,0)\n",
    "data.response_rate.value_counts()\n",
    "data.groupby('marital')['reponse_rate'].mean().plot.bar()\n",
    "plt.show()\n",
    "result = pd.pivot_table(data=data,index = 'education',columns = 'marital',values = 'response_rate')\n",
    "print(result)\n",
    "sns.heatmap(result, annot=True,cmap='RdYlGn',center = 0.117)\n",
    "plt.show()"
   ]
  },
  {
   "cell_type": "code",
   "execution_count": null,
   "metadata": {},
   "outputs": [],
   "source": []
  },
  {
   "cell_type": "code",
   "execution_count": null,
   "metadata": {},
   "outputs": [],
   "source": []
  },
  {
   "cell_type": "code",
   "execution_count": null,
   "metadata": {},
   "outputs": [],
   "source": []
  },
  {
   "cell_type": "code",
   "execution_count": null,
   "metadata": {},
   "outputs": [],
   "source": [
    "# create grid like graphs \n",
    "g = sns.FacetGrid(df_monthly,row=\"average_price\",col=\"date\")\n",
    "# program what is going to be in the grids\n",
    "g.map_dataframe()"
   ]
  }
 ],
 "metadata": {
  "kernelspec": {
   "display_name": "Python 3",
   "language": "python",
   "name": "python3"
  },
  "language_info": {
   "codemirror_mode": {
    "name": "ipython",
    "version": 3
   },
   "file_extension": ".py",
   "mimetype": "text/x-python",
   "name": "python",
   "nbconvert_exporter": "python",
   "pygments_lexer": "ipython3",
   "version": "3.6.8"
  }
 },
 "nbformat": 4,
 "nbformat_minor": 2
}
