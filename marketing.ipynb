{
 "cells": [
  {
   "cell_type": "code",
   "execution_count": 18,
   "metadata": {},
   "outputs": [
    {
     "name": "stdout",
     "output_type": "stream",
     "text": [
      "\n"
     ]
    }
   ],
   "source": [
    "# set titles for all plots \n",
    "    # Ask Jennetta about pandas titles \n",
    "    # Ask Jennetta about seaborn heat mapt values\n",
    "# rename columns so first letter is capitol \n",
    "\n",
    "'''\n",
    "Future \n",
    "'''\n",
    "# more work with balance \n",
    "# print()\n",
    "# outliers fall in numerical data types"
   ]
  },
  {
   "cell_type": "code",
   "execution_count": null,
   "metadata": {},
   "outputs": [],
   "source": [
    "'''\n",
    "Getting data ready for logisitc regression analysis:\n",
    "1. Values are binomial\n",
    "2. Applying logit function to CONTINUOUS INDEPENDENT variables\n",
    "\n",
    "'''"
   ]
  },
  {
   "cell_type": "code",
   "execution_count": 1,
   "metadata": {},
   "outputs": [],
   "source": [
    "'''\n",
    "Exploratory Data Analysis with:\n",
    "\n",
    "                pandas \n",
    "                matplotlib (scatter and bar plot)\n",
    "                seaborn (heatmaps) \n",
    "\n",
    "'''\n",
    "\n",
    "# import necessary libraries\n",
    "import numpy as np\n",
    "import pandas as pd \n",
    "import matplotlib.pyplot as plt\n",
    "import seaborn as sns\n",
    "%matplotlib inline\n",
    "\n",
    "# marketing data to analyze\n",
    "path = 'data/marketing_analysis.csv'\n",
    "df = pd.read_csv(path,skiprows=2)"
   ]
  },
  {
   "cell_type": "code",
   "execution_count": 2,
   "metadata": {},
   "outputs": [
    {
     "data": {
      "text/plain": [
       "Index(['customerid', 'age', 'salary', 'balance', 'marital', 'jobedu',\n",
       "       'targeted', 'default', 'housing', 'loan', 'contact', 'day', 'month',\n",
       "       'duration', 'campaign', 'pdays', 'previous', 'poutcome', 'response'],\n",
       "      dtype='object')"
      ]
     },
     "execution_count": 2,
     "metadata": {},
     "output_type": "execute_result"
    }
   ],
   "source": [
    "df.columns"
   ]
  },
  {
   "cell_type": "code",
   "execution_count": 71,
   "metadata": {},
   "outputs": [
    {
     "data": {
      "text/html": [
       "<div>\n",
       "<style scoped>\n",
       "    .dataframe tbody tr th:only-of-type {\n",
       "        vertical-align: middle;\n",
       "    }\n",
       "\n",
       "    .dataframe tbody tr th {\n",
       "        vertical-align: top;\n",
       "    }\n",
       "\n",
       "    .dataframe thead th {\n",
       "        text-align: right;\n",
       "    }\n",
       "</style>\n",
       "<table border=\"1\" class=\"dataframe\">\n",
       "  <thead>\n",
       "    <tr style=\"text-align: right;\">\n",
       "      <th></th>\n",
       "      <th>customerid</th>\n",
       "      <th>age</th>\n",
       "      <th>salary</th>\n",
       "      <th>balance</th>\n",
       "      <th>marital</th>\n",
       "      <th>jobedu</th>\n",
       "      <th>targeted</th>\n",
       "      <th>default</th>\n",
       "      <th>housing</th>\n",
       "      <th>loan</th>\n",
       "      <th>contact</th>\n",
       "      <th>day</th>\n",
       "      <th>month</th>\n",
       "      <th>duration</th>\n",
       "      <th>campaign</th>\n",
       "      <th>pdays</th>\n",
       "      <th>previous</th>\n",
       "      <th>poutcome</th>\n",
       "      <th>response</th>\n",
       "    </tr>\n",
       "  </thead>\n",
       "  <tbody>\n",
       "    <tr>\n",
       "      <th>0</th>\n",
       "      <td>1</td>\n",
       "      <td>58.0</td>\n",
       "      <td>100000</td>\n",
       "      <td>2143</td>\n",
       "      <td>married</td>\n",
       "      <td>management,tertiary</td>\n",
       "      <td>yes</td>\n",
       "      <td>no</td>\n",
       "      <td>yes</td>\n",
       "      <td>no</td>\n",
       "      <td>unknown</td>\n",
       "      <td>5</td>\n",
       "      <td>may, 2017</td>\n",
       "      <td>261 sec</td>\n",
       "      <td>1</td>\n",
       "      <td>-1</td>\n",
       "      <td>0</td>\n",
       "      <td>unknown</td>\n",
       "      <td>no</td>\n",
       "    </tr>\n",
       "    <tr>\n",
       "      <th>1</th>\n",
       "      <td>2</td>\n",
       "      <td>44.0</td>\n",
       "      <td>60000</td>\n",
       "      <td>29</td>\n",
       "      <td>single</td>\n",
       "      <td>technician,secondary</td>\n",
       "      <td>yes</td>\n",
       "      <td>no</td>\n",
       "      <td>yes</td>\n",
       "      <td>no</td>\n",
       "      <td>unknown</td>\n",
       "      <td>5</td>\n",
       "      <td>may, 2017</td>\n",
       "      <td>151 sec</td>\n",
       "      <td>1</td>\n",
       "      <td>-1</td>\n",
       "      <td>0</td>\n",
       "      <td>unknown</td>\n",
       "      <td>no</td>\n",
       "    </tr>\n",
       "    <tr>\n",
       "      <th>2</th>\n",
       "      <td>3</td>\n",
       "      <td>33.0</td>\n",
       "      <td>120000</td>\n",
       "      <td>2</td>\n",
       "      <td>married</td>\n",
       "      <td>entrepreneur,secondary</td>\n",
       "      <td>yes</td>\n",
       "      <td>no</td>\n",
       "      <td>yes</td>\n",
       "      <td>yes</td>\n",
       "      <td>unknown</td>\n",
       "      <td>5</td>\n",
       "      <td>may, 2017</td>\n",
       "      <td>76 sec</td>\n",
       "      <td>1</td>\n",
       "      <td>-1</td>\n",
       "      <td>0</td>\n",
       "      <td>unknown</td>\n",
       "      <td>no</td>\n",
       "    </tr>\n",
       "    <tr>\n",
       "      <th>3</th>\n",
       "      <td>4</td>\n",
       "      <td>47.0</td>\n",
       "      <td>20000</td>\n",
       "      <td>1506</td>\n",
       "      <td>married</td>\n",
       "      <td>blue-collar,unknown</td>\n",
       "      <td>no</td>\n",
       "      <td>no</td>\n",
       "      <td>yes</td>\n",
       "      <td>no</td>\n",
       "      <td>unknown</td>\n",
       "      <td>5</td>\n",
       "      <td>may, 2017</td>\n",
       "      <td>92 sec</td>\n",
       "      <td>1</td>\n",
       "      <td>-1</td>\n",
       "      <td>0</td>\n",
       "      <td>unknown</td>\n",
       "      <td>no</td>\n",
       "    </tr>\n",
       "    <tr>\n",
       "      <th>4</th>\n",
       "      <td>5</td>\n",
       "      <td>33.0</td>\n",
       "      <td>0</td>\n",
       "      <td>1</td>\n",
       "      <td>single</td>\n",
       "      <td>unknown,unknown</td>\n",
       "      <td>no</td>\n",
       "      <td>no</td>\n",
       "      <td>no</td>\n",
       "      <td>no</td>\n",
       "      <td>unknown</td>\n",
       "      <td>5</td>\n",
       "      <td>may, 2017</td>\n",
       "      <td>198 sec</td>\n",
       "      <td>1</td>\n",
       "      <td>-1</td>\n",
       "      <td>0</td>\n",
       "      <td>unknown</td>\n",
       "      <td>no</td>\n",
       "    </tr>\n",
       "  </tbody>\n",
       "</table>\n",
       "</div>"
      ],
      "text/plain": [
       "   customerid   age  salary  balance  marital                  jobedu  \\\n",
       "0           1  58.0  100000     2143  married     management,tertiary   \n",
       "1           2  44.0   60000       29   single    technician,secondary   \n",
       "2           3  33.0  120000        2  married  entrepreneur,secondary   \n",
       "3           4  47.0   20000     1506  married     blue-collar,unknown   \n",
       "4           5  33.0       0        1   single         unknown,unknown   \n",
       "\n",
       "  targeted default housing loan  contact  day      month duration  campaign  \\\n",
       "0      yes      no     yes   no  unknown    5  may, 2017  261 sec         1   \n",
       "1      yes      no     yes   no  unknown    5  may, 2017  151 sec         1   \n",
       "2      yes      no     yes  yes  unknown    5  may, 2017   76 sec         1   \n",
       "3       no      no     yes   no  unknown    5  may, 2017   92 sec         1   \n",
       "4       no      no      no   no  unknown    5  may, 2017  198 sec         1   \n",
       "\n",
       "   pdays  previous poutcome response  \n",
       "0     -1         0  unknown       no  \n",
       "1     -1         0  unknown       no  \n",
       "2     -1         0  unknown       no  \n",
       "3     -1         0  unknown       no  \n",
       "4     -1         0  unknown       no  "
      ]
     },
     "execution_count": 71,
     "metadata": {},
     "output_type": "execute_result"
    }
   ],
   "source": [
    "# rows and columns\n",
    "df.head()"
   ]
  },
  {
   "cell_type": "code",
   "execution_count": 8,
   "metadata": {},
   "outputs": [
    {
     "data": {
      "text/plain": [
       "7168"
      ]
     },
     "execution_count": 8,
     "metadata": {},
     "output_type": "execute_result"
    }
   ],
   "source": [
    "df.balance.describe()\n",
    "df.balance.nunique()"
   ]
  },
  {
   "cell_type": "code",
   "execution_count": 11,
   "metadata": {},
   "outputs": [
    {
     "data": {
      "text/plain": [
       "11"
      ]
     },
     "execution_count": 11,
     "metadata": {},
     "output_type": "execute_result"
    }
   ],
   "source": [
    "df.salary.describe()\n",
    "df.salary.nunique()\n",
    "# 4464 9000 0013 2532"
   ]
  },
  {
   "cell_type": "code",
   "execution_count": 5,
   "metadata": {},
   "outputs": [
    {
     "data": {
      "text/plain": [
       "count    45191.000000\n",
       "mean        40.935651\n",
       "std         10.619198\n",
       "min         18.000000\n",
       "25%         33.000000\n",
       "50%         39.000000\n",
       "75%         48.000000\n",
       "max         95.000000\n",
       "Name: age, dtype: float64"
      ]
     },
     "execution_count": 5,
     "metadata": {},
     "output_type": "execute_result"
    }
   ],
   "source": [
    "continuous_vars = ['age','balance',]"
   ]
  },
  {
   "cell_type": "code",
   "execution_count": 3,
   "metadata": {},
   "outputs": [],
   "source": [
    "# jobedu has two specific data values in the column\n",
    "df.jobedu\n",
    "# get job data from jobedu column in its own column \n",
    "df['job'] = df.jobedu.apply(lambda x: x.split(\",\")[0])\n",
    "# get education data from jobedu column in its own column \n",
    "df['education'] = df.jobedu.apply(lambda x: x.split(\",\")[1])\n",
    "# since we have the data drop the column\n",
    "df = df.drop('jobedu',axis = 1)"
   ]
  },
  {
   "cell_type": "code",
   "execution_count": 5,
   "metadata": {},
   "outputs": [
    {
     "data": {
      "text/plain": [
       "12"
      ]
     },
     "execution_count": 5,
     "metadata": {},
     "output_type": "execute_result"
    }
   ],
   "source": [
    "len(df.job.unique())"
   ]
  },
  {
   "cell_type": "code",
   "execution_count": 6,
   "metadata": {},
   "outputs": [
    {
     "data": {
      "text/plain": [
       "array(['management', 'technician', 'entrepreneur', 'blue-collar',\n",
       "       'unknown', 'retired', 'admin.', 'services', 'self-employed',\n",
       "       'unemployed', 'housemaid', 'student'], dtype=object)"
      ]
     },
     "execution_count": 6,
     "metadata": {},
     "output_type": "execute_result"
    }
   ],
   "source": [
    "df.job.unique()"
   ]
  },
  {
   "cell_type": "code",
   "execution_count": 8,
   "metadata": {},
   "outputs": [
    {
     "data": {
      "text/plain": [
       "<matplotlib.axes._subplots.AxesSubplot at 0x11fc91588>"
      ]
     },
     "execution_count": 8,
     "metadata": {},
     "output_type": "execute_result"
    },
    {
     "data": {
      "image/png": "[encoded data removed]",
      "text/plain": [
       "<Figure size 432x288 with 1 Axes>"
      ]
     },
     "metadata": {
      "needs_background": "light"
     },
     "output_type": "display_data"
    }
   ],
   "source": [
    "df.job.value_counts(normalize=True).plot.barh()"
   ]
  },
  {
   "cell_type": "code",
   "execution_count": 73,
   "metadata": {},
   "outputs": [],
   "source": [
    "# customer id is a repeat of index\n",
    "df.drop('customerid',axis = 1, inplace=True)"
   ]
  },
  {
   "cell_type": "code",
   "execution_count": 74,
   "metadata": {},
   "outputs": [
    {
     "name": "stdout",
     "output_type": "stream",
     "text": [
      "Procedures\n"
     ]
    }
   ],
   "source": [
    "'''\n",
    "Exploratory Data Analysis:\n",
    "\n",
    "    NaN:\n",
    "        1. Check which columns have NaN values\n",
    "        \n",
    "    Data Type: \n",
    "        2. Check data type of column\n",
    "        \n",
    "    Fill:\n",
    "        3. Dropping NaN values from dataset and replace depending on data type\n",
    "        4. Numerical data type replace with mean\n",
    "        5. Object data type replaced with mode\n",
    "        \n",
    "    Verify:    \n",
    "        6. Verify data is filled\n",
    "        \n",
    "'''\n",
    "print(\"Procedures\")"
   ]
  },
  {
   "cell_type": "code",
   "execution_count": 75,
   "metadata": {},
   "outputs": [
    {
     "data": {
      "text/plain": [
       "0"
      ]
     },
     "execution_count": 75,
     "metadata": {},
     "output_type": "execute_result"
    }
   ],
   "source": [
    "'''\n",
    "Age Data \n",
    "'''\n",
    "# remove null values \n",
    "df.isnull().sum()\n",
    "# Removing Null Values\n",
    "# age nulls with mean because numerics type of data\n",
    "type(df.age[0])\n",
    "mean = df.age.mean()\n",
    "# fill the NaN data with average from column\n",
    "df.age = df.age.fillna(mean)\n",
    "# verifying data is filled\n",
    "df.age.isnull().sum()"
   ]
  },
  {
   "cell_type": "code",
   "execution_count": 76,
   "metadata": {},
   "outputs": [
    {
     "data": {
      "text/plain": [
       "0"
      ]
     },
     "execution_count": 76,
     "metadata": {},
     "output_type": "execute_result"
    }
   ],
   "source": [
    "'''\n",
    "Month Data\n",
    "'''\n",
    "# converting string to datetime values using pandas\n",
    "#    mode of month to fill NaN values because it is a pandas object data type\n",
    "type(df.month[0])\n",
    "df.month = pd.to_datetime(df.month)\n",
    "# find mode of column\n",
    "month_mode = df.month.mode()[0]\n",
    "# fill NaN values with mode of column \n",
    "df.month = df.month.fillna(month_mode)\n",
    "# verify data is filled\n",
    "df.month.isnull().sum()"
   ]
  },
  {
   "cell_type": "code",
   "execution_count": 77,
   "metadata": {},
   "outputs": [
    {
     "data": {
      "text/plain": [
       "0"
      ]
     },
     "execution_count": 77,
     "metadata": {},
     "output_type": "execute_result"
    }
   ],
   "source": [
    "'''\n",
    "Response Data\n",
    "'''\n",
    "# visualizing object data type to see the occurence of each object to know what to fill\n",
    "type(df.response[0])\n",
    "df.response.value_counts(normalize=True)\n",
    "# object data types are fill with mode of data except when target value, drop them \n",
    "response_mode = df.response.mode()[0]\n",
    "# fill data with mode \n",
    "df = df.dropna(axis='index')\n",
    "# verify data is filled\n",
    "df.response.isnull().sum()"
   ]
  },
  {
   "cell_type": "code",
   "execution_count": 78,
   "metadata": {},
   "outputs": [
    {
     "data": {
      "text/plain": [
       "age          0\n",
       "salary       0\n",
       "balance      0\n",
       "marital      0\n",
       "targeted     0\n",
       "default      0\n",
       "housing      0\n",
       "loan         0\n",
       "contact      0\n",
       "day          0\n",
       "month        0\n",
       "duration     0\n",
       "campaign     0\n",
       "pdays        0\n",
       "previous     0\n",
       "poutcome     0\n",
       "response     0\n",
       "job          0\n",
       "education    0\n",
       "dtype: int64"
      ]
     },
     "execution_count": 78,
     "metadata": {},
     "output_type": "execute_result"
    }
   ],
   "source": [
    "'''\n",
    "Verify data is filled\n",
    "'''\n",
    "df.isnull().sum()"
   ]
  },
  {
   "cell_type": "code",
   "execution_count": 79,
   "metadata": {
    "scrolled": true
   },
   "outputs": [
    {
     "name": "stdout",
     "output_type": "stream",
     "text": [
      "Procedures\n"
     ]
    }
   ],
   "source": [
    "'''\n",
    "Exploratory Data Analysis:\n",
    "\n",
    "    Visualize:\n",
    "        1. Plot the data for Data Analysis after removing NaN values\n",
    "            - Depending on data type of column the data will be analyzed a certain way\n",
    "    \n",
    "                a. OBJECT data type will be viewed by value counts (how many type each category appears in column)\n",
    "                b. NUMERICAL data type will be viewed based on statistics of data (using .describe() in column from pandas)\n",
    "'''\n",
    "print(\"Procedures\")"
   ]
  },
  {
   "cell_type": "code",
   "execution_count": 80,
   "metadata": {},
   "outputs": [
    {
     "data": {
      "text/plain": [
       "<matplotlib.axes._subplots.AxesSubplot at 0x115f10780>"
      ]
     },
     "execution_count": 80,
     "metadata": {},
     "output_type": "execute_result"
    },
    {
     "data": {
      "image/png": "[encoded data removed]",
      "text/plain": [
       "<Figure size 432x288 with 1 Axes>"
      ]
     },
     "metadata": {
      "needs_background": "light"
     },
     "output_type": "display_data"
    }
   ],
   "source": [
    "'''\n",
    "Month Data\n",
    "'''\n",
    "# month column is categorical so we use value counts to analyze this data \n",
    "df.month.value_counts(normalize=True)\n",
    "# plot the value counts of the analyzed data on a bar graph\n",
    "df.month.value_counts(normalize=True).plot.barh()"
   ]
  },
  {
   "cell_type": "code",
   "execution_count": 81,
   "metadata": {},
   "outputs": [
    {
     "data": {
      "text/plain": [
       "<matplotlib.axes._subplots.AxesSubplot at 0x115f1a470>"
      ]
     },
     "execution_count": 81,
     "metadata": {},
     "output_type": "execute_result"
    },
    {
     "data": {
      "image/png": "[encoded data removed]",
      "text/plain": [
       "<Figure size 432x288 with 1 Axes>"
      ]
     },
     "metadata": {
      "needs_background": "light"
     },
     "output_type": "display_data"
    }
   ],
   "source": [
    "'''\n",
    "Response Data\n",
    "'''\n",
    "# response column is categorical so we use value counts to analyze this data\n",
    "df.response.value_counts(normalize=True)\n",
    "# plot the value counts of this data into a bar graph since it is categorical\n",
    "df.response.value_counts(normalize=True).plot.barh()"
   ]
  },
  {
   "cell_type": "code",
   "execution_count": 82,
   "metadata": {},
   "outputs": [
    {
     "data": {
      "text/plain": [
       "<matplotlib.axes._subplots.AxesSubplot at 0x118c911d0>"
      ]
     },
     "execution_count": 82,
     "metadata": {},
     "output_type": "execute_result"
    },
    {
     "data": {
      "image/png": "[encoded data removed]",
      "text/plain": [
       "<Figure size 432x288 with 1 Axes>"
      ]
     },
     "metadata": {
      "needs_background": "light"
     },
     "output_type": "display_data"
    }
   ],
   "source": [
    "'''\n",
    "Education Data\n",
    "'''\n",
    "# education is a categorical variable so we use the value counts of this variable to analyze it\n",
    "df.education.value_counts(normalize=True)\n",
    "# plot the results of the value counts \n",
    "# educational data in this column is also a time series data (in order of primary, tertiary, and secondary)\n",
    "df.education.value_counts(normalize=True).plot.barh()"
   ]
  },
  {
   "cell_type": "code",
   "execution_count": 83,
   "metadata": {},
   "outputs": [
    {
     "name": "stdout",
     "output_type": "stream",
     "text": [
      "Procedures for next lines\n"
     ]
    }
   ],
   "source": [
    "'''\n",
    "Looking for outliers:\n",
    "\n",
    "Comparing Numeric data types:\n",
    "    \n",
    "    Two Numeric data types:\n",
    "        - Scatter Plot\n",
    "        - Pair Plot\n",
    "        - Correlation Matrix\n",
    "    \n",
    "    Three numeric data types:\n",
    "        - Pair Plot\n",
    "        - Correlation Matrix\n",
    "    \n",
    "Comparing Numeric-Categorical data types:\n",
    "    \n",
    "    One Numerical, One Categorical\n",
    "        - Mean\n",
    "        - Median\n",
    "        - Box Plots\n",
    "    \n",
    "Using matplotlib for scatter function on plt object\n",
    "Using a scatter plot for COMPARING NUMERICAL data to analyze \n",
    "    Sometimes Univariate analysis is not significant (will not show outliers)\n",
    "    This is where Multivariate analysis comes in (more than one variable)\n",
    "'''\n",
    "print(\"Procedures for next lines\")"
   ]
  },
  {
   "cell_type": "code",
   "execution_count": 84,
   "metadata": {},
   "outputs": [
    {
     "data": {
      "text/plain": [
       "numpy.int64"
      ]
     },
     "execution_count": 84,
     "metadata": {},
     "output_type": "execute_result"
    }
   ],
   "source": [
    "'''\n",
    "Checking data types for analysis strategies\n",
    "'''\n",
    "\n",
    "type(df.salary[0])"
   ]
  },
  {
   "cell_type": "code",
   "execution_count": 85,
   "metadata": {},
   "outputs": [
    {
     "data": {
      "text/plain": [
       "numpy.int64"
      ]
     },
     "execution_count": 85,
     "metadata": {},
     "output_type": "execute_result"
    }
   ],
   "source": [
    "'''\n",
    "Checking data types for analysis strategies\n",
    "'''\n",
    "\n",
    "type(df.balance[0])"
   ]
  },
  {
   "cell_type": "code",
   "execution_count": 86,
   "metadata": {},
   "outputs": [
    {
     "data": {
      "text/plain": [
       "numpy.float64"
      ]
     },
     "execution_count": 86,
     "metadata": {},
     "output_type": "execute_result"
    }
   ],
   "source": [
    "'''\n",
    "Checking data types for analysis strategies\n",
    "'''\n",
    "\n",
    "type(df.age[0])"
   ]
  },
  {
   "cell_type": "code",
   "execution_count": 10,
   "metadata": {},
   "outputs": [
    {
     "data": {
      "text/plain": [
       "11"
      ]
     },
     "execution_count": 10,
     "metadata": {},
     "output_type": "execute_result"
    }
   ],
   "source": [
    "len(df.salary.unique())"
   ]
  },
  {
   "cell_type": "code",
   "execution_count": 12,
   "metadata": {},
   "outputs": [
    {
     "data": {
      "text/plain": [
       "array([100000,  60000, 120000,  20000,      0,  55000,  50000,  70000,\n",
       "         8000,  16000,   4000])"
      ]
     },
     "execution_count": 12,
     "metadata": {},
     "output_type": "execute_result"
    }
   ],
   "source": [
    "df.salary.unique()"
   ]
  },
  {
   "cell_type": "code",
   "execution_count": 14,
   "metadata": {},
   "outputs": [
    {
     "data": {
      "text/plain": [
       "array([ 2143,    29,     2, ...,  8205, 14204, 16353])"
      ]
     },
     "execution_count": 14,
     "metadata": {},
     "output_type": "execute_result"
    }
   ],
   "source": [
    "df.balance.unique()"
   ]
  },
  {
   "cell_type": "code",
   "execution_count": 16,
   "metadata": {},
   "outputs": [
    {
     "data": {
      "text/plain": [
       "7168"
      ]
     },
     "execution_count": 16,
     "metadata": {},
     "output_type": "execute_result"
    }
   ],
   "source": [
    "len(df.balance.unique())"
   ]
  },
  {
   "cell_type": "code",
   "execution_count": 87,
   "metadata": {},
   "outputs": [
    {
     "data": {
      "image/png": "[encoded data removed]",
      "text/plain": [
       "<Figure size 432x288 with 1 Axes>"
      ]
     },
     "metadata": {
      "needs_background": "light"
     },
     "output_type": "display_data"
    }
   ],
   "source": [
    "'''\n",
    "Comparing two Numeric data types:\n",
    "    - Scatter Plot\n",
    "    - Pair Plot\n",
    "    - Correlation Matrix\n",
    "'''\n",
    "\n",
    "\n",
    "'''\n",
    "Scatter Plots (for numeric) using matplotlib\n",
    "'''\n",
    "\n",
    "plt.scatter(df.salary,df.balance)\n",
    "plt.title(\"Salary vs Balance\")\n",
    "plt.xlabel(\"Salary\")\n",
    "plt.ylabel(\"Balance\")\n",
    "plt.show()\n"
   ]
  },
  {
   "cell_type": "code",
   "execution_count": 88,
   "metadata": {},
   "outputs": [
    {
     "data": {
      "image/png": "[encoded data removed]",
      "text/plain": [
       "<Figure size 432x288 with 1 Axes>"
      ]
     },
     "metadata": {
      "needs_background": "light"
     },
     "output_type": "display_data"
    }
   ],
   "source": [
    "'''\n",
    "Comparing two Numeric data types:\n",
    "    - Scatter Plot\n",
    "    - Pair Plot\n",
    "    - Correlation Matrix\n",
    "'''\n",
    "\n",
    "'''\n",
    "Scatter Plots (for numeric) using matplotlib\n",
    "'''\n",
    "\n",
    "plt.scatter(df.age,df.balance)\n",
    "plt.title(\"Age vs Balance\")\n",
    "plt.xlabel(\"Age\")\n",
    "plt.ylabel(\"Balance\")\n",
    "plt.show()"
   ]
  },
  {
   "cell_type": "code",
   "execution_count": 89,
   "metadata": {},
   "outputs": [
    {
     "data": {
      "image/png": "[encoded data removed]",
      "text/plain": [
       "<Figure size 432x288 with 1 Axes>"
      ]
     },
     "metadata": {
      "needs_background": "light"
     },
     "output_type": "display_data"
    }
   ],
   "source": [
    "'''\n",
    "Comparing two Numeric data types:\n",
    "    - Scatter Plot\n",
    "    - Pair Plot\n",
    "    - Correlation Matrix\n",
    "'''\n",
    "\n",
    "'''\n",
    "Scatter Plots (for numeric) using matplotlib\n",
    "'''\n",
    "\n",
    "plt.scatter(df.age,df.salary)\n",
    "plt.title(\"Age vs Salary\")\n",
    "plt.xlabel(\"Age\")\n",
    "plt.ylabel(\"Salary\")\n",
    "plt.show()"
   ]
  },
  {
   "cell_type": "code",
   "execution_count": 90,
   "metadata": {},
   "outputs": [
    {
     "data": {
      "image/png": "[encoded data removed]",
      "text/plain": [
       "<Figure size 360x360 with 6 Axes>"
      ]
     },
     "metadata": {
      "needs_background": "light"
     },
     "output_type": "display_data"
    }
   ],
   "source": [
    "'''\n",
    "Comparing two Numeric data types:\n",
    "    - Scatter Plot\n",
    "    - Pair Plot\n",
    "    - Correlation Matrix\n",
    "'''\n",
    "\n",
    "'''\n",
    "Pair plots (for numeric) using seaborn\n",
    "    - .pairplot() method\n",
    "'''\n",
    "\n",
    "plot = sns.pairplot(data = df, vars=['salary','balance'])\n",
    "plot.fig.suptitle(\"Salary vs Balance\")\n",
    "plt.show()"
   ]
  },
  {
   "cell_type": "code",
   "execution_count": 91,
   "metadata": {},
   "outputs": [
    {
     "data": {
      "image/png": "[encoded data removed]",
      "text/plain": [
       "<Figure size 360x360 with 6 Axes>"
      ]
     },
     "metadata": {
      "needs_background": "light"
     },
     "output_type": "display_data"
    }
   ],
   "source": [
    "'''\n",
    "Comparing two Numeric data types:\n",
    "    - Scatter Plot\n",
    "    - Pair Plot\n",
    "    - Correlation Matrix\n",
    "'''\n",
    "\n",
    "'''\n",
    "Pair plots (for numeric) using seaborn\n",
    "    - .pairplot() method\n",
    "'''\n",
    "\n",
    "plot = sns.pairplot(data = df, vars=['salary','age'])\n",
    "plot.fig.suptitle(\"Age vs Salary\")\n",
    "plt.show()"
   ]
  },
  {
   "cell_type": "code",
   "execution_count": 92,
   "metadata": {},
   "outputs": [
    {
     "data": {
      "image/png": "[encoded data removed]",
      "text/plain": [
       "<Figure size 360x360 with 6 Axes>"
      ]
     },
     "metadata": {
      "needs_background": "light"
     },
     "output_type": "display_data"
    }
   ],
   "source": [
    "'''\n",
    "Comparing two Numeric data types:\n",
    "    - Scatter Plot\n",
    "    - Pair Plot\n",
    "    - Correlation Matrix\n",
    "'''\n",
    "\n",
    "\n",
    "'''\n",
    "Pair plots (for numeric) using seaborn\n",
    "    - .pairplot() method\n",
    "'''\n",
    "\n",
    "plot = sns.pairplot(data = df, vars=['age','balance'])\n",
    "plot.fig.suptitle(\"Age vs Balance\")\n",
    "plt.show()"
   ]
  },
  {
   "cell_type": "code",
   "execution_count": 93,
   "metadata": {},
   "outputs": [
    {
     "data": {
      "image/png": "[encoded data removed]",
      "text/plain": [
       "<Figure size 432x288 with 2 Axes>"
      ]
     },
     "metadata": {
      "needs_background": "light"
     },
     "output_type": "display_data"
    }
   ],
   "source": [
    "'''\n",
    "Comparing two Numeric data types:\n",
    "    - Scatter Plot\n",
    "    - Pair Plot\n",
    "    - Correlation Matrix\n",
    "'''\n",
    "\n",
    "'''\n",
    "Correlation matrix (for numeric) using: \n",
    "    - pandas .corr() method\n",
    "    - seaborn .heatmap() method  \n",
    "'''\n",
    "ax = plt.axes()\n",
    "data = df[['salary','balance']].corr()\n",
    "plot = sns.heatmap(data,ax = ax,center = 0,annot=True)\n",
    "ax.set_title(\"Salary vs Balance\")\n",
    "plt.show()"
   ]
  },
  {
   "cell_type": "code",
   "execution_count": 94,
   "metadata": {},
   "outputs": [
    {
     "data": {
      "image/png": "[encoded data removed]",
      "text/plain": [
       "<Figure size 432x288 with 2 Axes>"
      ]
     },
     "metadata": {
      "needs_background": "light"
     },
     "output_type": "display_data"
    }
   ],
   "source": [
    "'''\n",
    "Comparing two Numeric data types:\n",
    "    - Scatter Plot\n",
    "    - Pair Plot\n",
    "    - Correlation Matrix\n",
    "'''\n",
    "\n",
    "'''\n",
    "Correlation matrix (for numeric) using: \n",
    "    - pandas .corr() method\n",
    "    - seaborn .heatmap() method  \n",
    "'''\n",
    "ax = plt.axes()\n",
    "data = df[['salary','age']].corr()\n",
    "sns.heatmap(data,ax = ax,annot=True)\n",
    "ax.set_title(\"Age vs Salary\")\n",
    "plt.show()"
   ]
  },
  {
   "cell_type": "code",
   "execution_count": 95,
   "metadata": {},
   "outputs": [
    {
     "data": {
      "image/png": "[encoded data removed]",
      "text/plain": [
       "<Figure size 432x288 with 2 Axes>"
      ]
     },
     "metadata": {
      "needs_background": "light"
     },
     "output_type": "display_data"
    }
   ],
   "source": [
    "'''\n",
    "Comparing two Numeric data types:\n",
    "    - Scatter Plot\n",
    "    - Pair Plot\n",
    "    - Correlation Matrix\n",
    "'''\n",
    "\n",
    "'''\n",
    "Correlation matrix (for numeric) using: \n",
    "    - pandas .corr() method\n",
    "    - seaborn .heatmap() method  \n",
    "'''\n",
    "ax = plt.axes()\n",
    "data = df[['salary','age']].corr()\n",
    "sns.heatmap(data,ax = ax,annot=True)\n",
    "ax.set_title(\"Age vs Salary\")\n",
    "plt.show()"
   ]
  },
  {
   "cell_type": "code",
   "execution_count": 96,
   "metadata": {},
   "outputs": [
    {
     "data": {
      "image/png": "[encoded data removed]",
      "text/plain": [
       "<Figure size 432x288 with 2 Axes>"
      ]
     },
     "metadata": {
      "needs_background": "light"
     },
     "output_type": "display_data"
    }
   ],
   "source": [
    "'''\n",
    "Three numeric features:\n",
    "    \n",
    "    Using correlation matrix (for numeric data type)\n",
    "\n",
    "        - pandas.corr() method\n",
    "        - seaborn .heatmap() method\n",
    "        \n",
    "    Using mean\n",
    "        - pandas .groupby()[].mean()\n",
    "    Using median\n",
    "        - pandas .groupby()[].median()\n",
    "'''\n",
    "ax = plt.axes()\n",
    "data = df[['age','salary','balance']].corr()\n",
    "sns.heatmap(data,ax = ax,annot=True)\n",
    "ax.set_title(\"Age vs Salary vs Balance\")\n",
    "plt.show()"
   ]
  },
  {
   "cell_type": "code",
   "execution_count": 97,
   "metadata": {},
   "outputs": [
    {
     "data": {
      "text/plain": [
       "response\n",
       "no     56770.917933\n",
       "yes    58771.704180\n",
       "Name: salary, dtype: float64"
      ]
     },
     "execution_count": 97,
     "metadata": {},
     "output_type": "execute_result"
    },
    {
     "data": {
      "image/png": "[encoded data removed]",
      "text/plain": [
       "<Figure size 432x288 with 1 Axes>"
      ]
     },
     "metadata": {
      "needs_background": "light"
     },
     "output_type": "display_data"
    }
   ],
   "source": [
    "'''\n",
    "Comparing Numeric-Categorical data types:\n",
    "    \n",
    "    One Numerical, One Categorical\n",
    "        - Mean\n",
    "        - Median\n",
    "        - Box Plots\n",
    "'''\n",
    "\n",
    "'''\n",
    "Using mean to compare Categorical and Numerical data type\n",
    "'''\n",
    "df.groupby('response')['salary'].mean().plot.barh()\n",
    "df.groupby('response')['salary'].mean()"
   ]
  },
  {
   "cell_type": "code",
   "execution_count": 98,
   "metadata": {
    "scrolled": true
   },
   "outputs": [
    {
     "data": {
      "text/plain": [
       "response\n",
       "no     60000\n",
       "yes    60000\n",
       "Name: salary, dtype: int64"
      ]
     },
     "execution_count": 98,
     "metadata": {},
     "output_type": "execute_result"
    },
    {
     "data": {
      "image/png": "[encoded data removed]",
      "text/plain": [
       "<Figure size 432x288 with 1 Axes>"
      ]
     },
     "metadata": {
      "needs_background": "light"
     },
     "output_type": "display_data"
    }
   ],
   "source": [
    "'''\n",
    "Comparing Numeric-Categorical data types:\n",
    "    \n",
    "    One Numerical, One Categorical\n",
    "        - Mean\n",
    "        - Median\n",
    "        - Box Plots\n",
    "'''\n",
    "\n",
    "'''\n",
    "Using median to compare Categorical and Numerical data type\n",
    "'''\n",
    "df.groupby('response')['salary'].median().plot.barh()\n",
    "df.groupby('response')['salary'].median()"
   ]
  },
  {
   "cell_type": "code",
   "execution_count": 99,
   "metadata": {},
   "outputs": [
    {
     "data": {
      "image/png": "[encoded data removed]",
      "text/plain": [
       "<Figure size 432x288 with 1 Axes>"
      ]
     },
     "metadata": {
      "needs_background": "light"
     },
     "output_type": "display_data"
    }
   ],
   "source": [
    "'''\n",
    "Comparing Numeric-Categorical data types:\n",
    "    \n",
    "    One Numerical, One Categorical\n",
    "        - Mean\n",
    "        - Median\n",
    "        - Box Plots\n",
    "'''\n",
    "\n",
    "'''\n",
    "Using boxplots to compare Categorical and Numerical data type\n",
    "'''\n",
    "ax = plt.axes()\n",
    "sns.boxplot(df.response,df.salary, ax = ax)\n",
    "ax.set_title(\"Salary vs Response\")\n",
    "plt.show()"
   ]
  },
  {
   "cell_type": "code",
   "execution_count": 100,
   "metadata": {},
   "outputs": [
    {
     "data": {
      "text/plain": [
       "str"
      ]
     },
     "execution_count": 100,
     "metadata": {},
     "output_type": "execute_result"
    }
   ],
   "source": [
    "type(df.response[0])"
   ]
  },
  {
   "cell_type": "code",
   "execution_count": 101,
   "metadata": {},
   "outputs": [
    {
     "data": {
      "text/plain": [
       "numpy.int64"
      ]
     },
     "execution_count": 101,
     "metadata": {},
     "output_type": "execute_result"
    }
   ],
   "source": [
    "type(df.salary[0])"
   ]
  },
  {
   "cell_type": "code",
   "execution_count": 102,
   "metadata": {},
   "outputs": [],
   "source": [
    "# changing object data to numerical for analsis\n",
    "df['response'] = np.where(df.response == \"yes\",1,0)"
   ]
  },
  {
   "cell_type": "code",
   "execution_count": 103,
   "metadata": {},
   "outputs": [
    {
     "data": {
      "text/plain": [
       "marital\n",
       "divorced    0.119523\n",
       "married     0.101269\n",
       "single      0.149507\n",
       "Name: response, dtype: float64"
      ]
     },
     "execution_count": 103,
     "metadata": {},
     "output_type": "execute_result"
    }
   ],
   "source": [
    "'''\n",
    "Comparing Numeric-Categorical data types:\n",
    "    \n",
    "    One Numerical, One Categorical\n",
    "        - Mean\n",
    "        - Median\n",
    "        - Box Plots\n",
    "'''\n",
    "\n",
    "'''\n",
    "Using mean to compare Categorical and Numerical data type\n",
    "'''\n",
    "\n",
    "df.groupby('marital')['response'].mean()"
   ]
  },
  {
   "cell_type": "code",
   "execution_count": 104,
   "metadata": {},
   "outputs": [
    {
     "data": {
      "text/plain": [
       "marital\n",
       "divorced    0\n",
       "married     0\n",
       "single      0\n",
       "Name: response, dtype: int64"
      ]
     },
     "execution_count": 104,
     "metadata": {},
     "output_type": "execute_result"
    }
   ],
   "source": [
    "'''\n",
    "Comparing Numeric-Categorical data types:\n",
    "    \n",
    "    One Numerical, One Categorical\n",
    "        - Mean\n",
    "        - Median\n",
    "        - Box Plots\n",
    "'''\n",
    "\n",
    "'''\n",
    "Using median to compare Categorical and Numerical data type\n",
    "'''\n",
    "df.groupby('marital')['response'].median()"
   ]
  },
  {
   "cell_type": "code",
   "execution_count": 105,
   "metadata": {},
   "outputs": [
    {
     "data": {
      "text/plain": [
       "Text(0.5, 1.0, 'Reponses vs Marital Status')"
      ]
     },
     "execution_count": 105,
     "metadata": {},
     "output_type": "execute_result"
    },
    {
     "data": {
      "image/png": "[encoded data removed]",
      "text/plain": [
       "<Figure size 432x288 with 1 Axes>"
      ]
     },
     "metadata": {
      "needs_background": "light"
     },
     "output_type": "display_data"
    }
   ],
   "source": [
    "'''\n",
    "Comparing Numeric-Categorical data types:\n",
    "    \n",
    "    One Numerical, One Categorical\n",
    "        - Mean\n",
    "        - Median\n",
    "        - Box Plots\n",
    "'''\n",
    "\n",
    "'''\n",
    "Using boxplots to compare Categorical and Numerical data type\n",
    "'''\n",
    "\n",
    "sns.boxplot(df.marital,df.response).set_title(\"Reponses vs Marital Status\")"
   ]
  },
  {
   "cell_type": "code",
   "execution_count": 106,
   "metadata": {},
   "outputs": [
    {
     "data": {
      "image/png": "[encoded data removed]",
      "text/plain": [
       "<Figure size 432x288 with 2 Axes>"
      ]
     },
     "metadata": {
      "needs_background": "light"
     },
     "output_type": "display_data"
    }
   ],
   "source": [
    "'''\n",
    "Three variables in comparison\n",
    "\n",
    "    Using correlation matrix (for numeric data type)\n",
    "\n",
    "        - pandas.corr() method\n",
    "        - seaborn .heatmap() method\n",
    "'''\n",
    "ax = plt.axes()\n",
    "result = pd.pivot_table(data=df,index = 'education',columns = 'marital',values = 'response')\n",
    "sns.heatmap(result,annot=True,cmap='RdYlGn',center=.0117,ax = ax)\n",
    "ax.set_title(\"Education vs Marital vs Response\")\n",
    "plt.show()"
   ]
  },
  {
   "cell_type": "code",
   "execution_count": null,
   "metadata": {},
   "outputs": [],
   "source": []
  }
 ],
 "metadata": {
  "kernelspec": {
   "display_name": "Python 3",
   "language": "python",
   "name": "python3"
  },
  "language_info": {
   "codemirror_mode": {
    "name": "ipython",
    "version": 3
   },
   "file_extension": ".py",
   "mimetype": "text/x-python",
   "name": "python",
   "nbconvert_exporter": "python",
   "pygments_lexer": "ipython3",
   "version": "3.6.8"
  }
 },
 "nbformat": 4,
 "nbformat_minor": 2
}
