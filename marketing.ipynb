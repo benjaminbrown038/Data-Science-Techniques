{
 "cells": [
  {
   "cell_type": "code",
   "execution_count": 1,
   "metadata": {},
   "outputs": [],
   "source": [
    "'''\n",
    "Exploratory Data Analysis with:\n",
    "\n",
    "                pandas \n",
    "                matplotlib (scatter and bar plot)\n",
    "                seaborn (heatmaps) \n",
    "\n",
    "'''\n",
    "\n",
    "# import necessary libraries\n",
    "import numpy as np\n",
    "import pandas as pd \n",
    "import matplotlib.pyplot as plt\n",
    "import seaborn as sns\n",
    "%matplotlib inline\n",
    "\n",
    "# marketing data to analyze\n",
    "df = pd.read_csv('marketing_analysis.csv',skiprows=2)"
   ]
  },
  {
   "cell_type": "code",
   "execution_count": 2,
   "metadata": {},
   "outputs": [
    {
     "data": {
      "text/html": [
       "<div>\n",
       "<style scoped>\n",
       "    .dataframe tbody tr th:only-of-type {\n",
       "        vertical-align: middle;\n",
       "    }\n",
       "\n",
       "    .dataframe tbody tr th {\n",
       "        vertical-align: top;\n",
       "    }\n",
       "\n",
       "    .dataframe thead th {\n",
       "        text-align: right;\n",
       "    }\n",
       "</style>\n",
       "<table border=\"1\" class=\"dataframe\">\n",
       "  <thead>\n",
       "    <tr style=\"text-align: right;\">\n",
       "      <th></th>\n",
       "      <th>customerid</th>\n",
       "      <th>age</th>\n",
       "      <th>salary</th>\n",
       "      <th>balance</th>\n",
       "      <th>marital</th>\n",
       "      <th>jobedu</th>\n",
       "      <th>targeted</th>\n",
       "      <th>default</th>\n",
       "      <th>housing</th>\n",
       "      <th>loan</th>\n",
       "      <th>contact</th>\n",
       "      <th>day</th>\n",
       "      <th>month</th>\n",
       "      <th>duration</th>\n",
       "      <th>campaign</th>\n",
       "      <th>pdays</th>\n",
       "      <th>previous</th>\n",
       "      <th>poutcome</th>\n",
       "      <th>response</th>\n",
       "    </tr>\n",
       "  </thead>\n",
       "  <tbody>\n",
       "    <tr>\n",
       "      <th>0</th>\n",
       "      <td>1</td>\n",
       "      <td>58.0</td>\n",
       "      <td>100000</td>\n",
       "      <td>2143</td>\n",
       "      <td>married</td>\n",
       "      <td>management,tertiary</td>\n",
       "      <td>yes</td>\n",
       "      <td>no</td>\n",
       "      <td>yes</td>\n",
       "      <td>no</td>\n",
       "      <td>unknown</td>\n",
       "      <td>5</td>\n",
       "      <td>may, 2017</td>\n",
       "      <td>261 sec</td>\n",
       "      <td>1</td>\n",
       "      <td>-1</td>\n",
       "      <td>0</td>\n",
       "      <td>unknown</td>\n",
       "      <td>no</td>\n",
       "    </tr>\n",
       "    <tr>\n",
       "      <th>1</th>\n",
       "      <td>2</td>\n",
       "      <td>44.0</td>\n",
       "      <td>60000</td>\n",
       "      <td>29</td>\n",
       "      <td>single</td>\n",
       "      <td>technician,secondary</td>\n",
       "      <td>yes</td>\n",
       "      <td>no</td>\n",
       "      <td>yes</td>\n",
       "      <td>no</td>\n",
       "      <td>unknown</td>\n",
       "      <td>5</td>\n",
       "      <td>may, 2017</td>\n",
       "      <td>151 sec</td>\n",
       "      <td>1</td>\n",
       "      <td>-1</td>\n",
       "      <td>0</td>\n",
       "      <td>unknown</td>\n",
       "      <td>no</td>\n",
       "    </tr>\n",
       "    <tr>\n",
       "      <th>2</th>\n",
       "      <td>3</td>\n",
       "      <td>33.0</td>\n",
       "      <td>120000</td>\n",
       "      <td>2</td>\n",
       "      <td>married</td>\n",
       "      <td>entrepreneur,secondary</td>\n",
       "      <td>yes</td>\n",
       "      <td>no</td>\n",
       "      <td>yes</td>\n",
       "      <td>yes</td>\n",
       "      <td>unknown</td>\n",
       "      <td>5</td>\n",
       "      <td>may, 2017</td>\n",
       "      <td>76 sec</td>\n",
       "      <td>1</td>\n",
       "      <td>-1</td>\n",
       "      <td>0</td>\n",
       "      <td>unknown</td>\n",
       "      <td>no</td>\n",
       "    </tr>\n",
       "    <tr>\n",
       "      <th>3</th>\n",
       "      <td>4</td>\n",
       "      <td>47.0</td>\n",
       "      <td>20000</td>\n",
       "      <td>1506</td>\n",
       "      <td>married</td>\n",
       "      <td>blue-collar,unknown</td>\n",
       "      <td>no</td>\n",
       "      <td>no</td>\n",
       "      <td>yes</td>\n",
       "      <td>no</td>\n",
       "      <td>unknown</td>\n",
       "      <td>5</td>\n",
       "      <td>may, 2017</td>\n",
       "      <td>92 sec</td>\n",
       "      <td>1</td>\n",
       "      <td>-1</td>\n",
       "      <td>0</td>\n",
       "      <td>unknown</td>\n",
       "      <td>no</td>\n",
       "    </tr>\n",
       "    <tr>\n",
       "      <th>4</th>\n",
       "      <td>5</td>\n",
       "      <td>33.0</td>\n",
       "      <td>0</td>\n",
       "      <td>1</td>\n",
       "      <td>single</td>\n",
       "      <td>unknown,unknown</td>\n",
       "      <td>no</td>\n",
       "      <td>no</td>\n",
       "      <td>no</td>\n",
       "      <td>no</td>\n",
       "      <td>unknown</td>\n",
       "      <td>5</td>\n",
       "      <td>may, 2017</td>\n",
       "      <td>198 sec</td>\n",
       "      <td>1</td>\n",
       "      <td>-1</td>\n",
       "      <td>0</td>\n",
       "      <td>unknown</td>\n",
       "      <td>no</td>\n",
       "    </tr>\n",
       "  </tbody>\n",
       "</table>\n",
       "</div>"
      ],
      "text/plain": [
       "   customerid   age  salary  balance  marital                  jobedu  \\\n",
       "0           1  58.0  100000     2143  married     management,tertiary   \n",
       "1           2  44.0   60000       29   single    technician,secondary   \n",
       "2           3  33.0  120000        2  married  entrepreneur,secondary   \n",
       "3           4  47.0   20000     1506  married     blue-collar,unknown   \n",
       "4           5  33.0       0        1   single         unknown,unknown   \n",
       "\n",
       "  targeted default housing loan  contact  day      month duration  campaign  \\\n",
       "0      yes      no     yes   no  unknown    5  may, 2017  261 sec         1   \n",
       "1      yes      no     yes   no  unknown    5  may, 2017  151 sec         1   \n",
       "2      yes      no     yes  yes  unknown    5  may, 2017   76 sec         1   \n",
       "3       no      no     yes   no  unknown    5  may, 2017   92 sec         1   \n",
       "4       no      no      no   no  unknown    5  may, 2017  198 sec         1   \n",
       "\n",
       "   pdays  previous poutcome response  \n",
       "0     -1         0  unknown       no  \n",
       "1     -1         0  unknown       no  \n",
       "2     -1         0  unknown       no  \n",
       "3     -1         0  unknown       no  \n",
       "4     -1         0  unknown       no  "
      ]
     },
     "execution_count": 2,
     "metadata": {},
     "output_type": "execute_result"
    }
   ],
   "source": [
    "# rows and columns\n",
    "df.head()"
   ]
  },
  {
   "cell_type": "code",
   "execution_count": 3,
   "metadata": {},
   "outputs": [],
   "source": [
    "# jobedu has two specific data values in the column\n",
    "df.jobedu\n",
    "# get job data from jobedu column in its own column \n",
    "df['job'] = df.jobedu.apply(lambda x: x.split(\",\")[0])\n",
    "# get education data from jobedu column in its own column \n",
    "df['education'] = df.jobedu.apply(lambda x: x.split(\",\")[1])\n",
    "# since we have the data drop the column\n",
    "df = df.drop('jobedu',axis = 1)"
   ]
  },
  {
   "cell_type": "code",
   "execution_count": 4,
   "metadata": {},
   "outputs": [],
   "source": [
    "# customer id is a repeat of index\n",
    "df.drop('customerid',axis = 1, inplace=True)"
   ]
  },
  {
   "cell_type": "code",
   "execution_count": 5,
   "metadata": {},
   "outputs": [
    {
     "data": {
      "text/plain": [
       "0"
      ]
     },
     "execution_count": 5,
     "metadata": {},
     "output_type": "execute_result"
    }
   ],
   "source": [
    "'''\n",
    "Check which columns have NaN values\n",
    "Check data type of column\n",
    "Dropping NaN values from dataset and replace depending on data type\n",
    "Numerical data type replace with mean\n",
    "Object data type replaced with mode\n",
    "Verify data is filled\n",
    "'''\n",
    "# remove null values \n",
    "df.isnull().sum()\n",
    "# Removing Null Values\n",
    "# age nulls with mean because numerics type of data\n",
    "type(df.age[0])\n",
    "mean = df.age.mean()\n",
    "# fill the NaN data with average from column\n",
    "df.age = df.age.fillna(mean)\n",
    "# verifying data is filled\n",
    "df.age.isnull().sum()\n",
    "# converting string to datetime values using pandas\n",
    "#    mode of month to fill NaN values because it is a pandas object data type\n",
    "type(df.month[0])\n",
    "df.month = pd.to_datetime(df.month)\n",
    "# find mode of column\n",
    "month_mode = df.month.mode()[0]\n",
    "# fill NaN values with mode of column \n",
    "df.month = df.month.fillna(month_mode)\n",
    "# verify data is filled\n",
    "df.month.isnull().sum()\n",
    "# visualizing object data type to see the occurence of each object to know what to fill\n",
    "type(df.response[0])\n",
    "df.response.value_counts(normalize=True)\n",
    "# object data types are fill with mode of data except when target value, drop them \n",
    "response_mode = df.response.mode()[0]\n",
    "# fill data with mode \n",
    "df = df.dropna(axis='index')\n",
    "# verify data is filled\n",
    "df.isnull().sum()"
   ]
  },
  {
   "cell_type": "code",
   "execution_count": 6,
   "metadata": {},
   "outputs": [
    {
     "data": {
      "text/plain": [
       "<matplotlib.axes._subplots.AxesSubplot at 0x122502630>"
      ]
     },
     "execution_count": 6,
     "metadata": {},
     "output_type": "execute_result"
    },
    {
     "data": {
      "image/png": "[encoded data removed]",
      "text/plain": [
       "<Figure size 432x288 with 1 Axes>"
      ]
     },
     "metadata": {
      "needs_background": "light"
     },
     "output_type": "display_data"
    }
   ],
   "source": [
    "'''\n",
    "Plot the data to for Data Analysis after removing NaN values\n",
    "Depending on data type of column the data will be analyzed a certain way\n",
    "Object data type will be viewed by value counts (how many type each category appears in column)\n",
    "Numerical data type will be viewed based on statistics of data (using .describe() in column from pandas)\n",
    "'''\n",
    "\n",
    "# month column is categorical so we use value counts to analyze this data \n",
    "df.month.value_counts(normalize=True)\n",
    "# plot the value counts of the analyzed data on a bar graph\n",
    "df.month.value_counts(normalize=True).plot.barh()\n",
    "\n",
    "# response column is categorical so we use value counts to analyze this data\n",
    "df.response.value_counts(normalize=True)\n",
    "# plot the value counts of this data into a bar graph since it is categorical\n",
    "df.response.value_counts(normalize=True).plot.barh()\n",
    "\n",
    "# education is a categorical variable so we use the value counts of this variable to analyze it\n",
    "df.education.value_counts(normalize=True)\n",
    "# plot the results of the value counts \n",
    "# educational data in this column is also a time series data (in order of primary, tertiary, and secondary)\n",
    "df.education.value_counts(normalize=True).plot.barh()"
   ]
  },
  {
   "cell_type": "code",
   "execution_count": 7,
   "metadata": {},
   "outputs": [
    {
     "data": {
      "text/plain": [
       "'\\nLooking for outliers:\\n\\nComparing Numeric data types:\\n    \\n    Two Numeric data types:\\n        - Scatter Plot\\n        - Pair Plot\\n        - Correlation Matrix\\n    \\n    Three numeric data types:\\n        - Pair Plot\\n        - Correlation Matrix\\n    \\nComparing Numeric-Categorical data types:\\n    \\n    One Numerical, One Categorical\\n        - Mean\\n        - Median\\n        - Box Plots\\n    \\nUsing matplotlib for scatter function on plt object\\nUsing a scatter plot for COMPARING NUMERICAL data to analyze \\n    Sometimes Univariate analysis is not significant (will not show outliers)\\n    This is where Multivariate analysis comes in (more than one variable)\\n'"
      ]
     },
     "execution_count": 7,
     "metadata": {},
     "output_type": "execute_result"
    }
   ],
   "source": [
    "'''\n",
    "Looking for outliers:\n",
    "\n",
    "Comparing Numeric data types:\n",
    "    \n",
    "    Two Numeric data types:\n",
    "        - Scatter Plot\n",
    "        - Pair Plot\n",
    "        - Correlation Matrix\n",
    "    \n",
    "    Three numeric data types:\n",
    "        - Pair Plot\n",
    "        - Correlation Matrix\n",
    "    \n",
    "Comparing Numeric-Categorical data types:\n",
    "    \n",
    "    One Numerical, One Categorical\n",
    "        - Mean\n",
    "        - Median\n",
    "        - Box Plots\n",
    "    \n",
    "Using matplotlib for scatter function on plt object\n",
    "Using a scatter plot for COMPARING NUMERICAL data to analyze \n",
    "    Sometimes Univariate analysis is not significant (will not show outliers)\n",
    "    This is where Multivariate analysis comes in (more than one variable)\n",
    "'''\n"
   ]
  },
  {
   "cell_type": "code",
   "execution_count": 8,
   "metadata": {},
   "outputs": [
    {
     "data": {
      "text/plain": [
       "numpy.int64"
      ]
     },
     "execution_count": 8,
     "metadata": {},
     "output_type": "execute_result"
    }
   ],
   "source": [
    "'''\n",
    "Checking data types for analysis strategies\n",
    "'''\n",
    "\n",
    "type(df.salary[0])"
   ]
  },
  {
   "cell_type": "code",
   "execution_count": 9,
   "metadata": {},
   "outputs": [
    {
     "data": {
      "text/plain": [
       "numpy.int64"
      ]
     },
     "execution_count": 9,
     "metadata": {},
     "output_type": "execute_result"
    }
   ],
   "source": [
    "'''\n",
    "Checking data types for analysis strategies\n",
    "'''\n",
    "\n",
    "type(df.balance[0])"
   ]
  },
  {
   "cell_type": "code",
   "execution_count": 10,
   "metadata": {},
   "outputs": [
    {
     "data": {
      "text/plain": [
       "numpy.float64"
      ]
     },
     "execution_count": 10,
     "metadata": {},
     "output_type": "execute_result"
    }
   ],
   "source": [
    "'''\n",
    "Checking data types for analysis strategies\n",
    "'''\n",
    "\n",
    "type(df.age[0])"
   ]
  },
  {
   "cell_type": "code",
   "execution_count": 11,
   "metadata": {},
   "outputs": [
    {
     "data": {
      "text/plain": [
       "<matplotlib.collections.PathCollection at 0x124426e48>"
      ]
     },
     "execution_count": 11,
     "metadata": {},
     "output_type": "execute_result"
    },
    {
     "data": {
      "image/png": "[encoded data removed]",
      "text/plain": [
       "<Figure size 432x288 with 1 Axes>"
      ]
     },
     "metadata": {
      "needs_background": "light"
     },
     "output_type": "display_data"
    }
   ],
   "source": [
    "'''\n",
    "Comparing two Numeric data types:\n",
    "    - Scatter Plot\n",
    "    - Pair Plot\n",
    "    - Correlation Matrix\n",
    "'''\n",
    "\n",
    "\n",
    "'''\n",
    "Scatter Plots (for numeric) using matplotlib\n",
    "'''\n",
    "\n",
    "plt.scatter(df.salary,df.balance)\n"
   ]
  },
  {
   "cell_type": "code",
   "execution_count": 12,
   "metadata": {},
   "outputs": [
    {
     "data": {
      "text/plain": [
       "<matplotlib.collections.PathCollection at 0x12651ab70>"
      ]
     },
     "execution_count": 12,
     "metadata": {},
     "output_type": "execute_result"
    },
    {
     "data": {
      "image/png": "[encoded data removed]",
      "text/plain": [
       "<Figure size 432x288 with 1 Axes>"
      ]
     },
     "metadata": {
      "needs_background": "light"
     },
     "output_type": "display_data"
    }
   ],
   "source": [
    "'''\n",
    "Comparing two Numeric data types:\n",
    "    - Scatter Plot\n",
    "    - Pair Plot\n",
    "    - Correlation Matrix\n",
    "'''\n",
    "\n",
    "'''\n",
    "Scatter Plots (for numeric) using matplotlib\n",
    "'''\n",
    "\n",
    "plt.scatter(df.age,df.balance)"
   ]
  },
  {
   "cell_type": "code",
   "execution_count": 14,
   "metadata": {},
   "outputs": [
    {
     "data": {
      "text/plain": [
       "<matplotlib.collections.PathCollection at 0x126646ac8>"
      ]
     },
     "execution_count": 14,
     "metadata": {},
     "output_type": "execute_result"
    },
    {
     "data": {
      "image/png": "[encoded data removed]",
      "text/plain": [
       "<Figure size 432x288 with 1 Axes>"
      ]
     },
     "metadata": {
      "needs_background": "light"
     },
     "output_type": "display_data"
    }
   ],
   "source": [
    "'''\n",
    "Comparing two Numeric data types:\n",
    "    - Scatter Plot\n",
    "    - Pair Plot\n",
    "    - Correlation Matrix\n",
    "'''\n",
    "\n",
    "'''\n",
    "Scatter Plots (for numeric) using matplotlib\n",
    "'''\n",
    "\n",
    "plt.scatter(df.salary,df.age)"
   ]
  },
  {
   "cell_type": "code",
   "execution_count": 15,
   "metadata": {},
   "outputs": [
    {
     "data": {
      "text/plain": [
       "<seaborn.axisgrid.PairGrid at 0x1264f3c88>"
      ]
     },
     "execution_count": 15,
     "metadata": {},
     "output_type": "execute_result"
    },
    {
     "data": {
      "image/png": "[encoded data removed]",
      "text/plain": [
       "<Figure size 360x360 with 6 Axes>"
      ]
     },
     "metadata": {
      "needs_background": "light"
     },
     "output_type": "display_data"
    }
   ],
   "source": [
    "'''\n",
    "Comparing two Numeric data types:\n",
    "    - Scatter Plot\n",
    "    - Pair Plot\n",
    "    - Correlation Matrix\n",
    "'''\n",
    "\n",
    "'''\n",
    "Pair plots (for numeric) using seaborn\n",
    "    - .pairplot() method\n",
    "'''\n",
    "\n",
    "sns.pairplot(data = df, vars=['salary','balance'])"
   ]
  },
  {
   "cell_type": "code",
   "execution_count": 16,
   "metadata": {},
   "outputs": [
    {
     "data": {
      "text/plain": [
       "<seaborn.axisgrid.PairGrid at 0x126c6e0f0>"
      ]
     },
     "execution_count": 16,
     "metadata": {},
     "output_type": "execute_result"
    },
    {
     "data": {
      "image/png": "[encoded data removed]",
      "text/plain": [
       "<Figure size 360x360 with 6 Axes>"
      ]
     },
     "metadata": {
      "needs_background": "light"
     },
     "output_type": "display_data"
    }
   ],
   "source": [
    "'''\n",
    "Comparing two Numeric data types:\n",
    "    - Scatter Plot\n",
    "    - Pair Plot\n",
    "    - Correlation Matrix\n",
    "'''\n",
    "\n",
    "'''\n",
    "Pair plots (for numeric) using seaborn\n",
    "    - .pairplot() method\n",
    "'''\n",
    "\n",
    "sns.pairplot(data = df, vars=['salary','age'])"
   ]
  },
  {
   "cell_type": "code",
   "execution_count": 17,
   "metadata": {},
   "outputs": [
    {
     "data": {
      "text/plain": [
       "<seaborn.axisgrid.PairGrid at 0x127682e80>"
      ]
     },
     "execution_count": 17,
     "metadata": {},
     "output_type": "execute_result"
    },
    {
     "data": {
      "image/png": "[encoded data removed]",
      "text/plain": [
       "<Figure size 360x360 with 6 Axes>"
      ]
     },
     "metadata": {
      "needs_background": "light"
     },
     "output_type": "display_data"
    }
   ],
   "source": [
    "'''\n",
    "Comparing two Numeric data types:\n",
    "    - Scatter Plot\n",
    "    - Pair Plot\n",
    "    - Correlation Matrix\n",
    "'''\n",
    "\n",
    "\n",
    "'''\n",
    "Pair plots (for numeric) using seaborn\n",
    "    - .pairplot() method\n",
    "'''\n",
    "\n",
    "sns.pairplot(data = df, vars=['age','balance'])"
   ]
  },
  {
   "cell_type": "code",
   "execution_count": 18,
   "metadata": {},
   "outputs": [
    {
     "data": {
      "text/plain": [
       "<matplotlib.axes._subplots.AxesSubplot at 0x12787ef60>"
      ]
     },
     "execution_count": 18,
     "metadata": {},
     "output_type": "execute_result"
    },
    {
     "data": {
      "image/png": "[encoded data removed]",
      "text/plain": [
       "<Figure size 432x288 with 2 Axes>"
      ]
     },
     "metadata": {
      "needs_background": "light"
     },
     "output_type": "display_data"
    }
   ],
   "source": [
    "'''\n",
    "Comparing two Numeric data types:\n",
    "    - Scatter Plot\n",
    "    - Pair Plot\n",
    "    - Correlation Matrix\n",
    "'''\n",
    "\n",
    "'''\n",
    "Correlation matrix (for numeric) using: \n",
    "    - pandas .corr() method\n",
    "    - seaborn .heatmap() method  \n",
    "'''\n",
    "\n",
    "sns.heatmap(df[['salary','balance']].corr(),annot=True)"
   ]
  },
  {
   "cell_type": "code",
   "execution_count": 19,
   "metadata": {},
   "outputs": [
    {
     "data": {
      "text/plain": [
       "<matplotlib.axes._subplots.AxesSubplot at 0x123337390>"
      ]
     },
     "execution_count": 19,
     "metadata": {},
     "output_type": "execute_result"
    },
    {
     "data": {
      "image/png": "[encoded data removed]",
      "text/plain": [
       "<Figure size 432x288 with 2 Axes>"
      ]
     },
     "metadata": {
      "needs_background": "light"
     },
     "output_type": "display_data"
    }
   ],
   "source": [
    "'''\n",
    "Comparing two Numeric data types:\n",
    "    - Scatter Plot\n",
    "    - Pair Plot\n",
    "    - Correlation Matrix\n",
    "'''\n",
    "\n",
    "'''\n",
    "Correlation matrix (for numeric) using: \n",
    "    - pandas .corr() method\n",
    "    - seaborn .heatmap() method  \n",
    "'''\n",
    "\n",
    "sns.heatmap(df[['salary','age']].corr(),annot=True)"
   ]
  },
  {
   "cell_type": "code",
   "execution_count": 20,
   "metadata": {},
   "outputs": [
    {
     "data": {
      "text/plain": [
       "<matplotlib.axes._subplots.AxesSubplot at 0x1235536a0>"
      ]
     },
     "execution_count": 20,
     "metadata": {},
     "output_type": "execute_result"
    },
    {
     "data": {
      "image/png": "[encoded data removed]",
      "text/plain": [
       "<Figure size 432x288 with 2 Axes>"
      ]
     },
     "metadata": {
      "needs_background": "light"
     },
     "output_type": "display_data"
    }
   ],
   "source": [
    "'''\n",
    "Comparing two Numeric data types:\n",
    "    - Scatter Plot\n",
    "    - Pair Plot\n",
    "    - Correlation Matrix\n",
    "'''\n",
    "\n",
    "'''\n",
    "Correlation matrix (for numeric) using: \n",
    "    - pandas .corr() method\n",
    "    - seaborn .heatmap() method  \n",
    "'''\n",
    "\n",
    "sns.heatmap(df[['salary','age']].corr(),annot=True)"
   ]
  },
  {
   "cell_type": "code",
   "execution_count": 21,
   "metadata": {},
   "outputs": [
    {
     "data": {
      "text/plain": [
       "<matplotlib.axes._subplots.AxesSubplot at 0x12357f8d0>"
      ]
     },
     "execution_count": 21,
     "metadata": {},
     "output_type": "execute_result"
    },
    {
     "data": {
      "image/png": "[encoded data removed]",
      "text/plain": [
       "<Figure size 432x288 with 2 Axes>"
      ]
     },
     "metadata": {
      "needs_background": "light"
     },
     "output_type": "display_data"
    }
   ],
   "source": [
    "'''\n",
    "Three numeric features:\n",
    "    \n",
    "    Using correlation matrix (for numeric data type)\n",
    "\n",
    "        - pandas.corr() method\n",
    "        - seaborn .heatmap() method\n",
    "        \n",
    "    Using mean\n",
    "        - pandas .groupby()[].mean()\n",
    "    Using median\n",
    "        - pandas .groupby()[].median()\n",
    "'''\n",
    "\n",
    "\n",
    "\n",
    "sns.heatmap(df[['age','salary','balance']].corr(),annot=True)\n"
   ]
  },
  {
   "cell_type": "code",
   "execution_count": 22,
   "metadata": {},
   "outputs": [
    {
     "data": {
      "text/plain": [
       "response\n",
       "no     56772.367498\n",
       "yes    58771.704180\n",
       "Name: salary, dtype: float64"
      ]
     },
     "execution_count": 22,
     "metadata": {},
     "output_type": "execute_result"
    }
   ],
   "source": [
    "'''\n",
    "Comparing Numeric-Categorical data types:\n",
    "    \n",
    "    One Numerical, One Categorical\n",
    "        - Mean\n",
    "        - Median\n",
    "        - Box Plots\n",
    "'''\n",
    "\n",
    "'''\n",
    "Using mean to compare Categorical and Numerical data type\n",
    "'''\n",
    "\n",
    "df.groupby('response')['salary'].mean()"
   ]
  },
  {
   "cell_type": "code",
   "execution_count": 23,
   "metadata": {
    "scrolled": true
   },
   "outputs": [
    {
     "data": {
      "text/plain": [
       "response\n",
       "no     60000\n",
       "yes    60000\n",
       "Name: salary, dtype: int64"
      ]
     },
     "execution_count": 23,
     "metadata": {},
     "output_type": "execute_result"
    }
   ],
   "source": [
    "'''\n",
    "Comparing Numeric-Categorical data types:\n",
    "    \n",
    "    One Numerical, One Categorical\n",
    "        - Mean\n",
    "        - Median\n",
    "        - Box Plots\n",
    "'''\n",
    "\n",
    "'''\n",
    "Using median to compare Categorical and Numerical data type\n",
    "'''\n",
    "df.groupby('response')['salary'].median()"
   ]
  },
  {
   "cell_type": "code",
   "execution_count": 24,
   "metadata": {},
   "outputs": [
    {
     "data": {
      "text/plain": [
       "<matplotlib.axes._subplots.AxesSubplot at 0x127d15278>"
      ]
     },
     "execution_count": 24,
     "metadata": {},
     "output_type": "execute_result"
    },
    {
     "data": {
      "image/png": "[encoded data removed]",
      "text/plain": [
       "<Figure size 432x288 with 1 Axes>"
      ]
     },
     "metadata": {
      "needs_background": "light"
     },
     "output_type": "display_data"
    }
   ],
   "source": [
    "'''\n",
    "Comparing Numeric-Categorical data types:\n",
    "    \n",
    "    One Numerical, One Categorical\n",
    "        - Mean\n",
    "        - Median\n",
    "        - Box Plots\n",
    "'''\n",
    "\n",
    "'''\n",
    "Using boxplots to compare Categorical and Numerical data type\n",
    "'''\n",
    "sns.boxplot(df.response,df.salary)"
   ]
  },
  {
   "cell_type": "code",
   "execution_count": 33,
   "metadata": {},
   "outputs": [],
   "source": [
    "# changing object data to numerical for analsis\n",
    "df['response'] = np.where(df.response == \"yes\",1,0)"
   ]
  },
  {
   "cell_type": "code",
   "execution_count": 27,
   "metadata": {},
   "outputs": [
    {
     "data": {
      "text/plain": [
       "marital\n",
       "divorced    0.119455\n",
       "married     0.101198\n",
       "single      0.149414\n",
       "Name: response, dtype: float64"
      ]
     },
     "execution_count": 27,
     "metadata": {},
     "output_type": "execute_result"
    }
   ],
   "source": [
    "'''\n",
    "Comparing Numeric-Categorical data types:\n",
    "    \n",
    "    One Numerical, One Categorical\n",
    "        - Mean\n",
    "        - Median\n",
    "        - Box Plots\n",
    "'''\n",
    "\n",
    "'''\n",
    "Using mean to compare Categorical and Numerical data type\n",
    "'''\n",
    "\n",
    "df.groupby('marital')['response'].mean()"
   ]
  },
  {
   "cell_type": "code",
   "execution_count": 28,
   "metadata": {},
   "outputs": [
    {
     "data": {
      "text/plain": [
       "marital\n",
       "divorced    0\n",
       "married     0\n",
       "single      0\n",
       "Name: response, dtype: int64"
      ]
     },
     "execution_count": 28,
     "metadata": {},
     "output_type": "execute_result"
    }
   ],
   "source": [
    "'''\n",
    "Comparing Numeric-Categorical data types:\n",
    "    \n",
    "    One Numerical, One Categorical\n",
    "        - Mean\n",
    "        - Median\n",
    "        - Box Plots\n",
    "'''\n",
    "\n",
    "'''\n",
    "Using median to compare Categorical and Numerical data type\n",
    "'''\n",
    "df.groupby('marital')['response'].median()"
   ]
  },
  {
   "cell_type": "code",
   "execution_count": 29,
   "metadata": {},
   "outputs": [
    {
     "data": {
      "text/plain": [
       "<matplotlib.axes._subplots.AxesSubplot at 0x127f230b8>"
      ]
     },
     "execution_count": 29,
     "metadata": {},
     "output_type": "execute_result"
    },
    {
     "data": {
      "image/png": "[encoded data removed]",
      "text/plain": [
       "<Figure size 432x288 with 1 Axes>"
      ]
     },
     "metadata": {
      "needs_background": "light"
     },
     "output_type": "display_data"
    }
   ],
   "source": [
    "'''\n",
    "Comparing Numeric-Categorical data types:\n",
    "    \n",
    "    One Numerical, One Categorical\n",
    "        - Mean\n",
    "        - Median\n",
    "        - Box Plots\n",
    "'''\n",
    "\n",
    "'''\n",
    "Using boxplots to compare Categorical and Numerical data type\n",
    "'''\n",
    "sns.boxplot(df.marital,df.response)"
   ]
  },
  {
   "cell_type": "code",
   "execution_count": 30,
   "metadata": {},
   "outputs": [
    {
     "data": {
      "text/plain": [
       "<matplotlib.axes._subplots.AxesSubplot at 0x128567e80>"
      ]
     },
     "execution_count": 30,
     "metadata": {},
     "output_type": "execute_result"
    },
    {
     "data": {
      "image/png": "[encoded data removed]",
      "text/plain": [
       "<Figure size 432x288 with 2 Axes>"
      ]
     },
     "metadata": {
      "needs_background": "light"
     },
     "output_type": "display_data"
    }
   ],
   "source": [
    "'''\n",
    "Three variables in comparison\n",
    "\n",
    "    Using correlation matrix (for numeric data type)\n",
    "\n",
    "        - pandas.corr() method\n",
    "        - seaborn .heatmap() method\n",
    "'''\n",
    "\n",
    "result = pd.pivot_table(data=df,index = 'education',columns = 'marital',values = 'response')\n",
    "sns.heatmap(result,annot=True,cmap='RdYlGn',center=.0117)"
   ]
  },
  {
   "cell_type": "code",
   "execution_count": null,
   "metadata": {},
   "outputs": [],
   "source": []
  }
 ],
 "metadata": {
  "kernelspec": {
   "display_name": "Python 3",
   "language": "python",
   "name": "python3"
  },
  "language_info": {
   "codemirror_mode": {
    "name": "ipython",
    "version": 3
   },
   "file_extension": ".py",
   "mimetype": "text/x-python",
   "name": "python",
   "nbconvert_exporter": "python",
   "pygments_lexer": "ipython3",
   "version": "3.6.8"
  }
 },
 "nbformat": 4,
 "nbformat_minor": 2
}
