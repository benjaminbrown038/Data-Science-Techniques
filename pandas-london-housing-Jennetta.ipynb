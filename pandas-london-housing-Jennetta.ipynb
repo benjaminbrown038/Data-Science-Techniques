{
 "cells": [
  {
   "cell_type": "code",
   "execution_count": 2,
   "metadata": {},
   "outputs": [],
   "source": [
    "#!pip install seaborn\n",
    "import pandas as pd\n",
    "import numpy as np\n",
    "import matplotlib.pyplot as plt\n",
    "%matplotlib inline\n",
    "import seaborn"
   ]
  },
  {
   "cell_type": "code",
   "execution_count": 3,
   "metadata": {},
   "outputs": [],
   "source": [
    "df_monthly = pd.read_csv('housing_in_london_monthly_variables.csv')\n",
    "df_yearly = pd.read_csv('housing_in_london_yearly_variables.csv')"
   ]
  },
  {
   "cell_type": "code",
   "execution_count": 5,
   "metadata": {},
   "outputs": [
    {
     "name": "stdout",
     "output_type": "stream",
     "text": [
      "Column names and data types in column:\n",
      "\n",
      "<class 'pandas.core.frame.DataFrame'>\n",
      "RangeIndex: 13549 entries, 0 to 13548\n",
      "Data columns (total 7 columns):\n",
      "date             13549 non-null object\n",
      "area             13549 non-null object\n",
      "average_price    13549 non-null int64\n",
      "code             13549 non-null object\n",
      "houses_sold      13455 non-null float64\n",
      "no_of_crimes     7439 non-null float64\n",
      "borough_flag     13549 non-null int64\n",
      "dtypes: float64(2), int64(2), object(3)\n",
      "memory usage: 741.1+ KB\n",
      "Number of rows in data:\n",
      " 13549\n",
      "Number of columns in data:\n",
      " 7\n",
      "Number of unique values in 'date' column:\n",
      " 301\n",
      "Number of unique values in 'code' column:\n",
      " 45\n",
      "Number of unique values in 'average_price' column:\n",
      " 13343\n",
      "Number of unique values in 'houses_sold' column:\n",
      " 3947\n",
      "Number of unique values in 'no_of_crimes' column:\n",
      " 2670\n",
      "Mean value for borough_flag column:\n",
      " 0.7333382537456639\n",
      "Standard Deviation from borough_flag:\n",
      " 0.4422303624179126\n"
     ]
    }
   ],
   "source": [
    "print(\"Column names and data types in column:\\n\")\n",
    "df_monthly.info()\n",
    "print(\"Number of rows in data:\\n\",len(df_monthly))\n",
    "print(\"Number of columns in data:\\n\" , len(df_monthly.columns))\n",
    "print(\"Number of unique values in 'date' column:\\n\" ,len(df_monthly.date.unique()))\n",
    "print(\"Number of unique values in 'code' column:\\n\" ,len(df_monthly.code.unique()))\n",
    "print(\"Number of unique values in 'average_price' column:\\n\" ,len(df_monthly.average_price.unique()))\n",
    "print(\"Number of unique values in 'houses_sold' column:\\n\" , len(df_monthly.houses_sold.unique()))\n",
    "print(\"Number of unique values in 'no_of_crimes' column:\\n\" ,len(df_monthly.no_of_crimes.unique()))\n",
    "#print(\"Plot houses_sold column from monthly data frame:\\n\" , df_monthly.houses_sold.plot())\n",
    "#print(\"Plot average_price column from monthly data frame:\\n\", df_monthly.average_price.plot())\n",
    "#print(\"Plot no_of_crimes column from monthly data frame:\\n\", df_monthly.no_of_crimes.plot())\n",
    "#print(\"Plot borough_flag column from monthly data frame:\\n\" , df_monthly.borough_flag.plot())\n",
    "print(\"Mean value for borough_flag column:\\n\",df_monthly.borough_flag.mean())\n",
    "print(\"Standard Deviation from borough_flag:\\n\" , df_monthly.borough_flag.std())\n",
    "#non_null_crime = df_monthly[df_monthly.no_of_crimes > 0].no_of_crimes\n",
    "#plt.boxplot(non_null_crime)\n",
    "#plt.plot(df_monthly.date,df_monthly.houses_sold)\n",
    "#seaborn.relplot(data=df_monthly, x='date', y='no_of_crimes', hue='area')\n",
    "#plt.show()\n"
   ]
  },
  {
   "cell_type": "code",
   "execution_count": null,
   "metadata": {},
   "outputs": [],
   "source": []
  }
 ],
 "metadata": {
  "kernelspec": {
   "display_name": "Python 3",
   "language": "python",
   "name": "python3"
  },
  "language_info": {
   "codemirror_mode": {
    "name": "ipython",
    "version": 3
   },
   "file_extension": ".py",
   "mimetype": "text/x-python",
   "name": "python",
   "nbconvert_exporter": "python",
   "pygments_lexer": "ipython3",
   "version": "3.6.8"
  }
 },
 "nbformat": 4,
 "nbformat_minor": 2
}
