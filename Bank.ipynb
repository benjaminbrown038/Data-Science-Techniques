{
 "cells": [
  {
   "cell_type": "markdown",
   "metadata": {},
   "source": [
    "# EDA with Marketing Data"
   ]
  },
  {
   "cell_type": "markdown",
   "metadata": {},
   "source": [
    "## References\n",
    "https://towardsdatascience.com/exploratory-data-analysis-eda-python-87178e35b14"
   ]
  },
  {
   "cell_type": "markdown",
   "metadata": {},
   "source": [
    "### Import Libraries"
   ]
  },
  {
   "cell_type": "code",
   "execution_count": 1,
   "metadata": {},
   "outputs": [],
   "source": [
    "import numpy as np\n",
    "import pandas as pd \n",
    "import matplotlib.pyplot as plt\n",
    "import seaborn as sns\n",
    "%matplotlib inline"
   ]
  },
  {
   "cell_type": "markdown",
   "metadata": {},
   "source": [
    "## Import Data"
   ]
  },
  {
   "cell_type": "code",
   "execution_count": 2,
   "metadata": {},
   "outputs": [],
   "source": [
    "path = 'data/marketing_analysis.csv'\n",
    "df = pd.read_csv(path,skiprows=2)"
   ]
  },
  {
   "cell_type": "markdown",
   "metadata": {},
   "source": [
    "## Data attributes\n",
    "- Column names\n",
    "- Values in columns"
   ]
  },
  {
   "cell_type": "markdown",
   "metadata": {},
   "source": [
    "### Columns names"
   ]
  },
  {
   "cell_type": "code",
   "execution_count": 3,
   "metadata": {
    "scrolled": true
   },
   "outputs": [
    {
     "data": {
      "text/plain": [
       "Index(['customerid', 'age', 'salary', 'balance', 'marital', 'jobedu',\n",
       "       'targeted', 'default', 'housing', 'loan', 'contact', 'day', 'month',\n",
       "       'duration', 'campaign', 'pdays', 'previous', 'poutcome', 'response'],\n",
       "      dtype='object')"
      ]
     },
     "execution_count": 3,
     "metadata": {},
     "output_type": "execute_result"
    }
   ],
   "source": [
    "df.columns"
   ]
  },
  {
   "cell_type": "markdown",
   "metadata": {},
   "source": [
    "### First five rows in columns"
   ]
  },
  {
   "cell_type": "code",
   "execution_count": 4,
   "metadata": {
    "scrolled": true
   },
   "outputs": [
    {
     "data": {
      "text/html": [
       "<div>\n",
       "<style scoped>\n",
       "    .dataframe tbody tr th:only-of-type {\n",
       "        vertical-align: middle;\n",
       "    }\n",
       "\n",
       "    .dataframe tbody tr th {\n",
       "        vertical-align: top;\n",
       "    }\n",
       "\n",
       "    .dataframe thead th {\n",
       "        text-align: right;\n",
       "    }\n",
       "</style>\n",
       "<table border=\"1\" class=\"dataframe\">\n",
       "  <thead>\n",
       "    <tr style=\"text-align: right;\">\n",
       "      <th></th>\n",
       "      <th>customerid</th>\n",
       "      <th>age</th>\n",
       "      <th>salary</th>\n",
       "      <th>balance</th>\n",
       "      <th>marital</th>\n",
       "      <th>jobedu</th>\n",
       "      <th>targeted</th>\n",
       "      <th>default</th>\n",
       "      <th>housing</th>\n",
       "      <th>loan</th>\n",
       "      <th>contact</th>\n",
       "      <th>day</th>\n",
       "      <th>month</th>\n",
       "      <th>duration</th>\n",
       "      <th>campaign</th>\n",
       "      <th>pdays</th>\n",
       "      <th>previous</th>\n",
       "      <th>poutcome</th>\n",
       "      <th>response</th>\n",
       "    </tr>\n",
       "  </thead>\n",
       "  <tbody>\n",
       "    <tr>\n",
       "      <th>0</th>\n",
       "      <td>1</td>\n",
       "      <td>58.0</td>\n",
       "      <td>100000</td>\n",
       "      <td>2143</td>\n",
       "      <td>married</td>\n",
       "      <td>management,tertiary</td>\n",
       "      <td>yes</td>\n",
       "      <td>no</td>\n",
       "      <td>yes</td>\n",
       "      <td>no</td>\n",
       "      <td>unknown</td>\n",
       "      <td>5</td>\n",
       "      <td>may, 2017</td>\n",
       "      <td>261 sec</td>\n",
       "      <td>1</td>\n",
       "      <td>-1</td>\n",
       "      <td>0</td>\n",
       "      <td>unknown</td>\n",
       "      <td>no</td>\n",
       "    </tr>\n",
       "    <tr>\n",
       "      <th>1</th>\n",
       "      <td>2</td>\n",
       "      <td>44.0</td>\n",
       "      <td>60000</td>\n",
       "      <td>29</td>\n",
       "      <td>single</td>\n",
       "      <td>technician,secondary</td>\n",
       "      <td>yes</td>\n",
       "      <td>no</td>\n",
       "      <td>yes</td>\n",
       "      <td>no</td>\n",
       "      <td>unknown</td>\n",
       "      <td>5</td>\n",
       "      <td>may, 2017</td>\n",
       "      <td>151 sec</td>\n",
       "      <td>1</td>\n",
       "      <td>-1</td>\n",
       "      <td>0</td>\n",
       "      <td>unknown</td>\n",
       "      <td>no</td>\n",
       "    </tr>\n",
       "    <tr>\n",
       "      <th>2</th>\n",
       "      <td>3</td>\n",
       "      <td>33.0</td>\n",
       "      <td>120000</td>\n",
       "      <td>2</td>\n",
       "      <td>married</td>\n",
       "      <td>entrepreneur,secondary</td>\n",
       "      <td>yes</td>\n",
       "      <td>no</td>\n",
       "      <td>yes</td>\n",
       "      <td>yes</td>\n",
       "      <td>unknown</td>\n",
       "      <td>5</td>\n",
       "      <td>may, 2017</td>\n",
       "      <td>76 sec</td>\n",
       "      <td>1</td>\n",
       "      <td>-1</td>\n",
       "      <td>0</td>\n",
       "      <td>unknown</td>\n",
       "      <td>no</td>\n",
       "    </tr>\n",
       "    <tr>\n",
       "      <th>3</th>\n",
       "      <td>4</td>\n",
       "      <td>47.0</td>\n",
       "      <td>20000</td>\n",
       "      <td>1506</td>\n",
       "      <td>married</td>\n",
       "      <td>blue-collar,unknown</td>\n",
       "      <td>no</td>\n",
       "      <td>no</td>\n",
       "      <td>yes</td>\n",
       "      <td>no</td>\n",
       "      <td>unknown</td>\n",
       "      <td>5</td>\n",
       "      <td>may, 2017</td>\n",
       "      <td>92 sec</td>\n",
       "      <td>1</td>\n",
       "      <td>-1</td>\n",
       "      <td>0</td>\n",
       "      <td>unknown</td>\n",
       "      <td>no</td>\n",
       "    </tr>\n",
       "    <tr>\n",
       "      <th>4</th>\n",
       "      <td>5</td>\n",
       "      <td>33.0</td>\n",
       "      <td>0</td>\n",
       "      <td>1</td>\n",
       "      <td>single</td>\n",
       "      <td>unknown,unknown</td>\n",
       "      <td>no</td>\n",
       "      <td>no</td>\n",
       "      <td>no</td>\n",
       "      <td>no</td>\n",
       "      <td>unknown</td>\n",
       "      <td>5</td>\n",
       "      <td>may, 2017</td>\n",
       "      <td>198 sec</td>\n",
       "      <td>1</td>\n",
       "      <td>-1</td>\n",
       "      <td>0</td>\n",
       "      <td>unknown</td>\n",
       "      <td>no</td>\n",
       "    </tr>\n",
       "  </tbody>\n",
       "</table>\n",
       "</div>"
      ],
      "text/plain": [
       "   customerid   age  salary  balance  marital                  jobedu  \\\n",
       "0           1  58.0  100000     2143  married     management,tertiary   \n",
       "1           2  44.0   60000       29   single    technician,secondary   \n",
       "2           3  33.0  120000        2  married  entrepreneur,secondary   \n",
       "3           4  47.0   20000     1506  married     blue-collar,unknown   \n",
       "4           5  33.0       0        1   single         unknown,unknown   \n",
       "\n",
       "  targeted default housing loan  contact  day      month duration  campaign  \\\n",
       "0      yes      no     yes   no  unknown    5  may, 2017  261 sec         1   \n",
       "1      yes      no     yes   no  unknown    5  may, 2017  151 sec         1   \n",
       "2      yes      no     yes  yes  unknown    5  may, 2017   76 sec         1   \n",
       "3       no      no     yes   no  unknown    5  may, 2017   92 sec         1   \n",
       "4       no      no      no   no  unknown    5  may, 2017  198 sec         1   \n",
       "\n",
       "   pdays  previous poutcome response  \n",
       "0     -1         0  unknown       no  \n",
       "1     -1         0  unknown       no  \n",
       "2     -1         0  unknown       no  \n",
       "3     -1         0  unknown       no  \n",
       "4     -1         0  unknown       no  "
      ]
     },
     "execution_count": 4,
     "metadata": {},
     "output_type": "execute_result"
    }
   ],
   "source": [
    "df.head()"
   ]
  },
  {
   "cell_type": "markdown",
   "metadata": {},
   "source": [
    "### Statistics from balance column"
   ]
  },
  {
   "cell_type": "code",
   "execution_count": 5,
   "metadata": {},
   "outputs": [
    {
     "data": {
      "text/plain": [
       "count     45211.000000\n",
       "mean       1362.272058\n",
       "std        3044.765829\n",
       "min       -8019.000000\n",
       "25%          72.000000\n",
       "50%         448.000000\n",
       "75%        1428.000000\n",
       "max      102127.000000\n",
       "Name: balance, dtype: float64"
      ]
     },
     "execution_count": 5,
     "metadata": {},
     "output_type": "execute_result"
    }
   ],
   "source": [
    "df.balance.describe()"
   ]
  },
  {
   "cell_type": "markdown",
   "metadata": {},
   "source": [
    "### Number of unique values in balance column"
   ]
  },
  {
   "cell_type": "code",
   "execution_count": 6,
   "metadata": {},
   "outputs": [
    {
     "data": {
      "text/plain": [
       "7168"
      ]
     },
     "execution_count": 6,
     "metadata": {},
     "output_type": "execute_result"
    }
   ],
   "source": [
    "df.balance.nunique()"
   ]
  },
  {
   "cell_type": "markdown",
   "metadata": {},
   "source": [
    "### Statistics from Salary column"
   ]
  },
  {
   "cell_type": "code",
   "execution_count": 7,
   "metadata": {},
   "outputs": [
    {
     "data": {
      "text/plain": [
       "count     45211.000000\n",
       "mean      57006.171065\n",
       "std       32085.718415\n",
       "min           0.000000\n",
       "25%       20000.000000\n",
       "50%       60000.000000\n",
       "75%       70000.000000\n",
       "max      120000.000000\n",
       "Name: salary, dtype: float64"
      ]
     },
     "execution_count": 7,
     "metadata": {},
     "output_type": "execute_result"
    }
   ],
   "source": [
    "df.salary.describe()"
   ]
  },
  {
   "cell_type": "markdown",
   "metadata": {},
   "source": [
    "### Number of unique values in salary column\n"
   ]
  },
  {
   "cell_type": "code",
   "execution_count": 8,
   "metadata": {},
   "outputs": [
    {
     "data": {
      "text/plain": [
       "11"
      ]
     },
     "execution_count": 8,
     "metadata": {},
     "output_type": "execute_result"
    }
   ],
   "source": [
    "df.salary.nunique()"
   ]
  },
  {
   "cell_type": "markdown",
   "metadata": {},
   "source": [
    "### Creating list with continuous variables "
   ]
  },
  {
   "cell_type": "code",
   "execution_count": 9,
   "metadata": {},
   "outputs": [
    {
     "data": {
      "text/plain": [
       "11"
      ]
     },
     "execution_count": 9,
     "metadata": {},
     "output_type": "execute_result"
    }
   ],
   "source": [
    "df.salary.describe()\n",
    "df.salary.nunique()"
   ]
  },
  {
   "cell_type": "code",
   "execution_count": 10,
   "metadata": {
    "scrolled": true
   },
   "outputs": [],
   "source": [
    "continuous_vars = ['age','balance']"
   ]
  },
  {
   "cell_type": "markdown",
   "metadata": {},
   "source": [
    "### Jobedu column has two attributes:\n",
    "- Remove attributes and store in seperate columns"
   ]
  },
  {
   "cell_type": "code",
   "execution_count": 11,
   "metadata": {},
   "outputs": [],
   "source": [
    "df.jobedu\n",
    "df['job'] = df.jobedu.apply(lambda x: x.split(\",\")[0])\n",
    "df['education'] = df.jobedu.apply(lambda x: x.split(\",\")[1])\n",
    "df = df.drop('jobedu',axis = 1)"
   ]
  },
  {
   "cell_type": "markdown",
   "metadata": {},
   "source": [
    "#### Unique values in job column"
   ]
  },
  {
   "cell_type": "code",
   "execution_count": 12,
   "metadata": {},
   "outputs": [
    {
     "data": {
      "text/plain": [
       "12"
      ]
     },
     "execution_count": 12,
     "metadata": {},
     "output_type": "execute_result"
    }
   ],
   "source": [
    "df.job.nunique()"
   ]
  },
  {
   "cell_type": "markdown",
   "metadata": {},
   "source": [
    "#### Show unique values"
   ]
  },
  {
   "cell_type": "code",
   "execution_count": 13,
   "metadata": {
    "scrolled": true
   },
   "outputs": [
    {
     "data": {
      "text/plain": [
       "array(['management', 'technician', 'entrepreneur', 'blue-collar',\n",
       "       'unknown', 'retired', 'admin.', 'services', 'self-employed',\n",
       "       'unemployed', 'housemaid', 'student'], dtype=object)"
      ]
     },
     "execution_count": 13,
     "metadata": {},
     "output_type": "execute_result"
    }
   ],
   "source": [
    "df.job.unique()"
   ]
  },
  {
   "cell_type": "markdown",
   "metadata": {},
   "source": [
    "#### Creating numerical data from object data by getting the number of occurences "
   ]
  },
  {
   "cell_type": "code",
   "execution_count": 14,
   "metadata": {},
   "outputs": [
    {
     "data": {
      "text/plain": [
       "blue-collar      0.215257\n",
       "management       0.209197\n",
       "technician       0.168034\n",
       "admin.           0.114375\n",
       "services         0.091880\n",
       "retired          0.050076\n",
       "self-employed    0.034925\n",
       "entrepreneur     0.032890\n",
       "unemployed       0.028820\n",
       "housemaid        0.027427\n",
       "student          0.020747\n",
       "unknown          0.006370\n",
       "Name: job, dtype: float64"
      ]
     },
     "execution_count": 14,
     "metadata": {},
     "output_type": "execute_result"
    }
   ],
   "source": [
    "df.job.value_counts(normalize=True)"
   ]
  },
  {
   "cell_type": "markdown",
   "metadata": {},
   "source": [
    "#### Plotting the number of occurences"
   ]
  },
  {
   "cell_type": "code",
   "execution_count": 15,
   "metadata": {},
   "outputs": [
    {
     "data": {
      "text/plain": [
       "<AxesSubplot:>"
      ]
     },
     "execution_count": 15,
     "metadata": {},
     "output_type": "execute_result"
    },
    {
     "data": {
      "image/png": "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\n",
      "text/plain": [
       "<Figure size 432x288 with 1 Axes>"
      ]
     },
     "metadata": {
      "needs_background": "light"
     },
     "output_type": "display_data"
    }
   ],
   "source": [
    "df.job.value_counts(normalize=True).plot.barh()"
   ]
  },
  {
   "cell_type": "markdown",
   "metadata": {},
   "source": [
    "#### Customerid the same as index\n",
    "- Duplicated data dropped"
   ]
  },
  {
   "cell_type": "code",
   "execution_count": 16,
   "metadata": {},
   "outputs": [],
   "source": [
    "# customer id is a repeat of index\n",
    "df.drop('customerid',axis = 1, inplace=True)"
   ]
  },
  {
   "cell_type": "markdown",
   "metadata": {},
   "source": [
    "## Exploratory Data Analysis:\n",
    "\n",
    "#### 1. NaN:\n",
    "- Check which columns have NaN values\n",
    "        \n",
    "#### 2. Data Type: \n",
    "- Check data type of column\n",
    "        \n",
    "#### 3. Fill:\n",
    "- Dropping NaN values from dataset and replace depending on data type\n",
    "- Numerical data type replace with mean\n",
    "- Object data type replaced with mode\n",
    "        \n",
    "#### 4. Verify:    \n",
    "- Verify data is filled"
   ]
  },
  {
   "cell_type": "markdown",
   "metadata": {},
   "source": [
    "### Age Data "
   ]
  },
  {
   "cell_type": "code",
   "execution_count": 17,
   "metadata": {},
   "outputs": [
    {
     "data": {
      "text/plain": [
       "0"
      ]
     },
     "execution_count": 17,
     "metadata": {},
     "output_type": "execute_result"
    }
   ],
   "source": [
    "df.isnull().sum()\n",
    "type(df.age[0])\n",
    "mean = df.age.mean()\n",
    "df.age = df.age.fillna(mean)\n",
    "df.age.isnull().sum()"
   ]
  },
  {
   "cell_type": "markdown",
   "metadata": {},
   "source": [
    "### Month Data"
   ]
  },
  {
   "cell_type": "code",
   "execution_count": 18,
   "metadata": {},
   "outputs": [
    {
     "data": {
      "text/plain": [
       "0"
      ]
     },
     "execution_count": 18,
     "metadata": {},
     "output_type": "execute_result"
    }
   ],
   "source": [
    "type(df.month[0])\n",
    "month_mode = df.month.mode()[0]\n",
    "df.month = df.month.fillna(month_mode)\n",
    "df.month.isnull().sum()"
   ]
  },
  {
   "cell_type": "markdown",
   "metadata": {},
   "source": [
    "### Response Data"
   ]
  },
  {
   "cell_type": "code",
   "execution_count": 19,
   "metadata": {},
   "outputs": [
    {
     "data": {
      "text/plain": [
       "0"
      ]
     },
     "execution_count": 19,
     "metadata": {},
     "output_type": "execute_result"
    }
   ],
   "source": [
    "type(df.response[0])\n",
    "df.response.value_counts(normalize=True)\n",
    "df = df.dropna(axis='index')\n",
    "df.response.isnull().sum()"
   ]
  },
  {
   "cell_type": "markdown",
   "metadata": {},
   "source": [
    "### Verify Data is filled"
   ]
  },
  {
   "cell_type": "code",
   "execution_count": 20,
   "metadata": {},
   "outputs": [
    {
     "data": {
      "text/plain": [
       "age          0\n",
       "salary       0\n",
       "balance      0\n",
       "marital      0\n",
       "targeted     0\n",
       "default      0\n",
       "housing      0\n",
       "loan         0\n",
       "contact      0\n",
       "day          0\n",
       "month        0\n",
       "duration     0\n",
       "campaign     0\n",
       "pdays        0\n",
       "previous     0\n",
       "poutcome     0\n",
       "response     0\n",
       "job          0\n",
       "education    0\n",
       "dtype: int64"
      ]
     },
     "execution_count": 20,
     "metadata": {},
     "output_type": "execute_result"
    }
   ],
   "source": [
    "df.isnull().sum()"
   ]
  },
  {
   "cell_type": "markdown",
   "metadata": {
    "scrolled": true
   },
   "source": [
    "## Exploratory Data Analysis:\n",
    "\n",
    "#### 1. Visualize:\n",
    "- Plot the data for Data Analysis after removing NaN values\n",
    "\n",
    "\n",
    "- Depending on data type of column the data will be analyzed a certain way\n",
    "    \n",
    "    a. OBJECT data type will be viewed by value counts (how many type each category appears in column)\n",
    "    \n",
    "    b. NUMERICAL data type will be viewed based on statistics of data (using .describe() in column from pandas"
   ]
  },
  {
   "cell_type": "markdown",
   "metadata": {},
   "source": [
    "### Month Data"
   ]
  },
  {
   "cell_type": "code",
   "execution_count": 21,
   "metadata": {},
   "outputs": [
    {
     "data": {
      "text/plain": [
       "<AxesSubplot:>"
      ]
     },
     "execution_count": 21,
     "metadata": {},
     "output_type": "execute_result"
    },
    {
     "data": {
      "image/png": "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\n",
      "text/plain": [
       "<Figure size 432x288 with 1 Axes>"
      ]
     },
     "metadata": {
      "needs_background": "light"
     },
     "output_type": "display_data"
    }
   ],
   "source": [
    "df.month.value_counts(normalize=True)\n",
    "df.month.value_counts(normalize=True).plot.barh()"
   ]
  },
  {
   "cell_type": "markdown",
   "metadata": {},
   "source": [
    "### Response Data"
   ]
  },
  {
   "cell_type": "code",
   "execution_count": 22,
   "metadata": {},
   "outputs": [
    {
     "data": {
      "text/plain": [
       "<AxesSubplot:>"
      ]
     },
     "execution_count": 22,
     "metadata": {},
     "output_type": "execute_result"
    },
    {
     "data": {
      "image/png": "iVBORw0KGgoAAAANSUhEUgAAAXUAAAD4CAYAAAATpHZ6AAAAOXRFWHRTb2Z0d2FyZQBNYXRwbG90bGliIHZlcnNpb24zLjMuNCwgaHR0cHM6Ly9tYXRwbG90bGliLm9yZy8QVMy6AAAACXBIWXMAAAsTAAALEwEAmpwYAAAJ8UlEQVR4nO3df4zkB1nH8c9Dzxqq5tp49Ueu4gJWAYGiPbAxlqgYhfYPYkRDUMDGhKjR+Gcb/5CExnBE/xCjptZKlGiCRqliECjxRzWBqntaepamepSKgNGUH6eliXjXxz92TM7NdXd6tzez99zrlWw6s/O9mWef7L73e7Nz2+ruADDDM9Y9AAB7R9QBBhF1gEFEHWAQUQcY5MA6H/zQoUO9sbGxzhEALjrHjh17rLuvPttta436xsZGNjc31zkCwEWnqv7lqW7z9AvAIKIOMIioAwwi6gCDiDrAIKIOMIioAwwi6gCDiDrAIKIOMIioAwwi6gCDiDrAIKIOMIioAwwi6gCDiDrAIKIOMIioAwwi6gCDiDrAIKIOMIioAwwi6gCDiDrAIKIOMMiBdT748U+dzMZt713nCEt79OjN6x4BYFfO1AEGEXWAQUQdYBBRBxhE1AEGEXWAQUQdYBBRBxhE1AEGEXWAQUQdYBBRBxhE1AEGEXWAQUQdYBBRBxhE1AEGEXWAQUQdYBBRBxhE1AEGEXWAQUQdYBBRBxhE1AEGObDTjVV1e5LHuvvti+s/n+Tfk3xpkh9a/Pfu7n5zVX1Zkt9Pck2Sy5Lc3t2/dyGHB+D/2+1M/TeTvDFJquoZSV6brahfm+RlSV6S5PqqenmSVyb5dHdf190vTPL+s91hVb2pqjaravP0Eyf35qMAIMkuUe/uR5N8pqq+Jcn3JvmHJC894/LfJ3letiJ/PMn3VNXbqurG7j5rsbv7zu4+0t1HLrvi4N59JADs/PTLwl1JfjTJ1yR5R5JXJHlrd//69gOr6vokNyV5a1Xd091v2cNZAdjFMlG/O8lbknxJktclOZXk9qr63e5+vKoOJ/mfxX19trt/p6oez9Y3AgBWaNeod/cXq+ovkny+u08nuaeqnp/kw1WVJI8n+ZEk35DkF6rqyWxF/icu3NgAnM2uUV/8gPSGJD/4f+9bvBrm7dsO/ViSD+zpdAA8LTv+oLSqXpDkRJI/6+5/Xs1IAJyrHc/Uu/ujSZ6zolkAOE/+RSnAIKIOMIioAwwi6gCDiDrAIKIOMIioAwwi6gCDiDrAIKIOMIioAwwi6gCDiDrAIKIOMIioAwwi6gCDiDrAIKIOMIioAwyy4/+j9EJ70eGD2Tx68zpHABjFmTrAIKIOMIioAwwi6gCDiDrAIKIOMIioAwwi6gCDiDrAIKIOMIioAwwi6gCDiDrAIKIOMIioAwwi6gCDiDrAIKIOMIioAwwi6gCDiDrAIKIOMIioAwwi6gCDiDrAIKIOMIioAwwi6gCDiDrAIKIOMIioAwwi6gCDiDrAIKIOMIioAwwi6gCDiDrAIKIOMIioAwwi6gCDiDrAIKIOMIioAwwi6gCDiDrAIKIOMIioAwwi6gCDiDrAIKIOMIioAwwi6gCDiDrAIAfW+eDHP3UyG7e9d50jAKzco0dvvmD37UwdYBBRBxhE1AEGEXWAQUQdYBBRBxhE1AEGEXWAQUQdYBBRBxhE1AEGEXWAQUQdYBBRBxhE1AEGEXWAQUQdYBBRBxhE1AEGEXWAQUQdYBBRBxhE1AEGEXWAQUQdYJBzinpVbVTVQ1X1G1X1YFXdU1XPrKqXVNV9VfVAVd1dVVft9cAAPLXzOVO/Nsmvdvc3J/l8kh9I8s4kt3b3i5McT/Lm7X+oqt5UVZtVtXn6iZPn8fAAbHc+Uf94d9+/uHwsyXOTXNnd9y7e99tJXr79D3X3nd19pLuPXHbFwfN4eAC2O5+o//cZl08nufL8RgHgfO3lD0pPJvlcVd24uP76JPfucDwAe+zAHt/fG5PcUVVXJHkkyS17fP8A7OCcot7djyZ54RnXf/GMm284z5kAOEdepw4wiKgDDCLqAIOIOsAgog4wiKgDDCLqAIOIOsAgog4wiKgDDCLqAIOIOsAgog4wiKgDDCLqAIOIOsAgog4wiKgDDCLqAIOIOsAgog4wiKgDDHJgnQ/+osMHs3n05nWOADCKM3WAQUQdYBBRBxhE1AEGEXWAQUQdYBBRBxhE1AEGEXWAQUQdYBBRBxhE1AEGEXWAQUQdYBBRBxhE1AEGEXWAQUQdYBBRBxhE1AEGEXWAQUQdYBBRBxhE1AEGEXWAQUQdYJDq7vU9eNV/JXl4bQNcHA4leWzdQ+xj9rMz+9nZxbqfr+/uq892w4FVT7LNw919ZM0z7GtVtWlHT81+dmY/O5u4H0+/AAwi6gCDrDvqd6758S8GdrQz+9mZ/exs3H7W+oNSAPbWus/UAdhDog4wyEqiXlWvrKqHq+pEVd12lturqn55cfsDVfWtq5hrv1hiPz+82MsDVfWhqrpuHXOu0247OuO4l1bV6ap6zSrnW7dl9lNV31lV91fVg1V176pnXKclvsYOVtWfVNVHFvu5ZR1z7onuvqBvSS5L8rEkz0lyeZKPJHnBtmNuSvK+JJXkhiR/c6Hn2i9vS+7n25Nctbj8qktpP8vu6Izj/jzJnyZ5zbrn3k/7SXJlko8medbi+lete+59tp+fTfK2xeWrk3w2yeXrnv1c3lZxpv6yJCe6+5Hu/mKSdyV59bZjXp3knb3lviRXVtXXrmC2/WDX/XT3h7r7c4ur9yW5ZsUzrtsyn0NJ8tNJ/jDJf6xyuH1gmf28Lsm7u/sTSdLdl9KOltlPJ/mKqqokX56tqJ9a7Zh7YxVRP5zkX8+4/snF+57uMVM93Y/9x7L1t5pLya47qqrDSb4/yR0rnGu/WOZz6BuTXFVVf1lVx6rqDSubbv2W2c+vJHl+kk8nOZ7kZ7r7ydWMt7dW8WsC6izv2/46ymWOmWrpj72qvitbUf+OCzrR/rPMjn4pya3dfXrrZOuSssx+DiS5PskrkjwzyYer6r7u/qcLPdw+sMx+vi/J/Um+O8lzk3ywqv66u//zAs+251YR9U8m+bozrl+Tre+GT/eYqZb62KvqxUnuSvKq7v7MimbbL5bZ0ZEk71oE/VCSm6rqVHf/0UomXK9lv8Ye6+4vJPlCVf1VkuuSXApRX2Y/tyQ52ltPqp+oqo8neV6Sv13NiHtnFU+//F2Sa6vq2VV1eZLXJnnPtmPek+QNi1fB3JDkZHf/2wpm2w923U9VPSvJu5O8/hI5s9pu1x1197O7e6O7N5L8QZKfvESCniz3NfbHSW6sqgNVdUWSb0vy0IrnXJdl9vOJbP0tJlX11Um+KckjK51yj1zwM/XuPlVVP5XkA9n6KfQ7uvvBqvrxxe13ZOvVCjclOZHkiWx917wkLLmfn0vylUl+bXEmeqqH/Wa5nSy5o0vWMvvp7oeq6v1JHkjyZJK7uvsf1zf16iz5+XN7kt+qquPZerrm1u6+GH8lr18TADCJf1EKMIioAwwi6gCDiDrAIKIOMIioAwwi6gCD/C/mtAz6eOo0FQAAAABJRU5ErkJggg==\n",
      "text/plain": [
       "<Figure size 432x288 with 1 Axes>"
      ]
     },
     "metadata": {
      "needs_background": "light"
     },
     "output_type": "display_data"
    }
   ],
   "source": [
    "df.response.value_counts(normalize=True)\n",
    "df.response.value_counts(normalize=True).plot.barh()"
   ]
  },
  {
   "cell_type": "markdown",
   "metadata": {},
   "source": [
    "### Education Data"
   ]
  },
  {
   "cell_type": "code",
   "execution_count": 23,
   "metadata": {},
   "outputs": [
    {
     "data": {
      "text/plain": [
       "<AxesSubplot:>"
      ]
     },
     "execution_count": 23,
     "metadata": {},
     "output_type": "execute_result"
    },
    {
     "data": {
      "image/png": "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\n",
      "text/plain": [
       "<Figure size 432x288 with 1 Axes>"
      ]
     },
     "metadata": {
      "needs_background": "light"
     },
     "output_type": "display_data"
    }
   ],
   "source": [
    "df.education.value_counts(normalize=True)\n",
    "df.education.value_counts(normalize=True).plot.barh()"
   ]
  },
  {
   "cell_type": "markdown",
   "metadata": {},
   "source": [
    "## Looking for outliers:\n",
    "\n",
    "Comparing Numeric data types:\n",
    "    \n",
    "   1. Two Numeric data types:\n",
    "        - Scatter Plot\n",
    "        - Pair Plot\n",
    "        - Correlation Matrix\n",
    "    \n",
    "  \n",
    "  2. Three numeric data types:\n",
    "        - Pair Plot\n",
    "        - Correlation Matrix\n",
    "    \n",
    "Comparing Numeric-Categorical data types:\n",
    "    \n",
    "   1. One Numerical, One Categorical\n",
    "        - Mean\n",
    "        - Median\n",
    "        - Box Plots\n",
    "    \n",
    "\n",
    "\n",
    "#### Note:\n",
    "\n",
    "- Sometimes Univariate analysis is not significant (will not show outliers). This is where Multivariate analysis comes in (more than one variable)\n"
   ]
  },
  {
   "cell_type": "markdown",
   "metadata": {},
   "source": [
    "### Checking data types for analysis strategies"
   ]
  },
  {
   "cell_type": "code",
   "execution_count": 24,
   "metadata": {},
   "outputs": [
    {
     "data": {
      "text/plain": [
       "numpy.int64"
      ]
     },
     "execution_count": 24,
     "metadata": {},
     "output_type": "execute_result"
    }
   ],
   "source": [
    "type(df.salary[0])"
   ]
  },
  {
   "cell_type": "code",
   "execution_count": 25,
   "metadata": {},
   "outputs": [
    {
     "data": {
      "text/plain": [
       "numpy.int64"
      ]
     },
     "execution_count": 25,
     "metadata": {},
     "output_type": "execute_result"
    }
   ],
   "source": [
    "type(df.balance[0])"
   ]
  },
  {
   "cell_type": "code",
   "execution_count": 26,
   "metadata": {},
   "outputs": [
    {
     "data": {
      "text/plain": [
       "numpy.float64"
      ]
     },
     "execution_count": 26,
     "metadata": {},
     "output_type": "execute_result"
    }
   ],
   "source": [
    "type(df.age[0])"
   ]
  },
  {
   "cell_type": "code",
   "execution_count": 27,
   "metadata": {},
   "outputs": [
    {
     "data": {
      "text/plain": [
       "11"
      ]
     },
     "execution_count": 27,
     "metadata": {},
     "output_type": "execute_result"
    }
   ],
   "source": [
    "len(df.salary.unique())"
   ]
  },
  {
   "cell_type": "code",
   "execution_count": 28,
   "metadata": {},
   "outputs": [
    {
     "data": {
      "text/plain": [
       "array([100000,  60000, 120000,  20000,      0,  55000,  50000,  70000,\n",
       "         8000,  16000,   4000], dtype=int64)"
      ]
     },
     "execution_count": 28,
     "metadata": {},
     "output_type": "execute_result"
    }
   ],
   "source": [
    "df.salary.unique()"
   ]
  },
  {
   "cell_type": "code",
   "execution_count": 29,
   "metadata": {},
   "outputs": [
    {
     "data": {
      "text/plain": [
       "array([ 2143,    29,     2, ...,  8205, 14204, 16353], dtype=int64)"
      ]
     },
     "execution_count": 29,
     "metadata": {},
     "output_type": "execute_result"
    }
   ],
   "source": [
    "df.balance.unique()"
   ]
  },
  {
   "cell_type": "code",
   "execution_count": 30,
   "metadata": {},
   "outputs": [
    {
     "data": {
      "text/plain": [
       "7167"
      ]
     },
     "execution_count": 30,
     "metadata": {},
     "output_type": "execute_result"
    }
   ],
   "source": [
    "len(df.balance.unique())"
   ]
  },
  {
   "cell_type": "markdown",
   "metadata": {},
   "source": [
    "## Comparing two Numeric data types:\n",
    "   - Scatter Plot\n",
    "   - Pair Plot\n",
    "   - Correlation Matrix"
   ]
  },
  {
   "cell_type": "markdown",
   "metadata": {},
   "source": [
    "### Scatter Plots"
   ]
  },
  {
   "cell_type": "code",
   "execution_count": 31,
   "metadata": {},
   "outputs": [
    {
     "data": {
      "image/png": "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\n",
      "text/plain": [
       "<Figure size 432x288 with 1 Axes>"
      ]
     },
     "metadata": {
      "needs_background": "light"
     },
     "output_type": "display_data"
    }
   ],
   "source": [
    "plt.scatter(df.salary,df.balance)\n",
    "plt.title(\"Salary vs Balance\")\n",
    "plt.xlabel(\"Salary\")\n",
    "plt.ylabel(\"Balance\")\n",
    "plt.show()"
   ]
  },
  {
   "cell_type": "code",
   "execution_count": 32,
   "metadata": {},
   "outputs": [
    {
     "data": {
      "image/png": "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\n",
      "text/plain": [
       "<Figure size 432x288 with 1 Axes>"
      ]
     },
     "metadata": {
      "needs_background": "light"
     },
     "output_type": "display_data"
    }
   ],
   "source": [
    "plt.scatter(df.age,df.balance)\n",
    "plt.title(\"Age vs Balance\")\n",
    "plt.xlabel(\"Age\")\n",
    "plt.ylabel(\"Balance\")\n",
    "plt.show()"
   ]
  },
  {
   "cell_type": "code",
   "execution_count": 33,
   "metadata": {},
   "outputs": [
    {
     "data": {
      "image/png": "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\n",
      "text/plain": [
       "<Figure size 432x288 with 1 Axes>"
      ]
     },
     "metadata": {
      "needs_background": "light"
     },
     "output_type": "display_data"
    }
   ],
   "source": [
    "plt.scatter(df.age,df.salary)\n",
    "plt.title(\"Age vs Salary\")\n",
    "plt.xlabel(\"Age\")\n",
    "plt.ylabel(\"Salary\")\n",
    "plt.show()"
   ]
  },
  {
   "cell_type": "markdown",
   "metadata": {},
   "source": [
    "### Pair plots"
   ]
  },
  {
   "cell_type": "code",
   "execution_count": 34,
   "metadata": {},
   "outputs": [
    {
     "data": {
      "image/png": "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\n",
      "text/plain": [
       "<Figure size 360x360 with 6 Axes>"
      ]
     },
     "metadata": {
      "needs_background": "light"
     },
     "output_type": "display_data"
    }
   ],
   "source": [
    "plot = sns.pairplot(data = df, vars=['salary','balance'])\n",
    "plot.fig.suptitle(\"Salary vs Balance\")\n",
    "plt.show()"
   ]
  },
  {
   "cell_type": "code",
   "execution_count": 35,
   "metadata": {},
   "outputs": [
    {
     "data": {
      "image/png": "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\n",
      "text/plain": [
       "<Figure size 360x360 with 6 Axes>"
      ]
     },
     "metadata": {
      "needs_background": "light"
     },
     "output_type": "display_data"
    }
   ],
   "source": [
    "plot = sns.pairplot(data = df, vars=['salary','age'])\n",
    "plot.fig.suptitle(\"Age vs Salary\")\n",
    "plt.show()"
   ]
  },
  {
   "cell_type": "code",
   "execution_count": 36,
   "metadata": {},
   "outputs": [
    {
     "data": {
      "image/png": "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\n",
      "text/plain": [
       "<Figure size 360x360 with 6 Axes>"
      ]
     },
     "metadata": {
      "needs_background": "light"
     },
     "output_type": "display_data"
    }
   ],
   "source": [
    "plot = sns.pairplot(data = df, vars=['age','balance'])\n",
    "plot.fig.suptitle(\"Age vs Balance\")\n",
    "plt.show()"
   ]
  },
  {
   "cell_type": "markdown",
   "metadata": {},
   "source": [
    "### Correlation matrix"
   ]
  },
  {
   "cell_type": "code",
   "execution_count": 37,
   "metadata": {},
   "outputs": [
    {
     "data": {
      "image/png": "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\n",
      "text/plain": [
       "<Figure size 432x288 with 2 Axes>"
      ]
     },
     "metadata": {
      "needs_background": "light"
     },
     "output_type": "display_data"
    }
   ],
   "source": [
    "ax = plt.axes()\n",
    "data = df[['salary','balance']].corr()\n",
    "plot = sns.heatmap(data,annot=True)\n",
    "ax.set_title(\"Salary vs Balance\")\n",
    "plt.show()"
   ]
  },
  {
   "cell_type": "code",
   "execution_count": 38,
   "metadata": {},
   "outputs": [
    {
     "data": {
      "image/png": "iVBORw0KGgoAAAANSUhEUgAAAV0AAAEICAYAAAD8yyfzAAAAOXRFWHRTb2Z0d2FyZQBNYXRwbG90bGliIHZlcnNpb24zLjMuNCwgaHR0cHM6Ly9tYXRwbG90bGliLm9yZy8QVMy6AAAACXBIWXMAAAsTAAALEwEAmpwYAAAakElEQVR4nO3deZxU5Z3v8c+XxaioMIlxEJqrZDRRooIKmLjFXdBByOhLjYrG0SFuiYk3Ru8d1yxq4qjBqw42xDEa9w2VgKJxXOPSiIisiiLSLCHEBQUy0t2/+0cdsGh6qW6qTlUfvm9f50Wdc5566jnSr1//+J3nOaWIwMzM0tGp3AMwM9uUOOiamaXIQdfMLEUOumZmKXLQNTNLkYOumVmKHHStw5P0fUkvlnscZoVw0M04Sc9K+kjSl8o9lpZI2kzSdZJqJX0mab6kG8o9LrNic9DNMEk7AgcAARxT3tG06v8AA4HBwNbAwcAbpf5QSV1K/Rlm+Rx0s+1U4BXgduC0/BOSviLpcUkrJNVI+mX+P9El7SLpKUkfSpor6fimPkDSiZKmNDr2E0mPJa+PkjRL0qeSFkn6aTNjHQQ8EhGLI+f9iLgjr8+LJb2b9DNL0nebu2hJoyUtTK7tdUkH5J27QtKDkv4gaQVwsaRVkr6S12ZvSX+V1LW5zzBrLwfdbDsVuCvZjpT0j3nnbgZWAj3JBeR1QVlSN+Ap4G5gO+B7wC2SvtnEZzwGfEPSznnHTkreC/A74AcRsTWwG/BMM2N9BbhA0jmSdpekRuffJZe1dweuBP4gaftm+qoBBgBfTsbxgKTN884PBx4EegDXAc8C+b9UTgHujYg1zfRv1n4R4S2DG7A/sAbYNtmfA/wked05OfeNvPa/BF5MXp8AvNCov1uBy5v5rD8AlyWvdwY+BbZM9j8AfgBs08p4OwPnAi8B/wMsBk5rof00YHjy+vtrx95M24+A/snrK4DnG50/AXgpbxxLgcHl/jv0ls3NmW52nQZMjojlyf7dfJHNfhXoAizMa5//egdgH0kfr92Ak8llxU25m1w2DLksd3xErEr2jwWOAhZIek7St5vqICLqI+LmiNiPXAb6K+A2SbsCSDpV0rS88ewGbNtUX5L+t6TZkj5J2nZv1HZho7c8CvST9DXgcOCTiHitmWs12yi+iZBBkrYg98/lzpKWJoe/BPSQ1B+YAdQBVcDbyfk+eV0sBJ6LiMML/MjJwLaSBpALvj9ZeyIiaoDhSX30POD+Rp+1gYhYDdws6UpywXAVMBY4FHg5IuolTQMalyBI6rcXJW1nRkSDpI8atV3v0XoR8XdJ95P7xbILcGeB123WZs50s2kEUA/0I1fbHADsCrwAnBoR9cDDwBWStpS0C7n671oTgK9LGimpa7INWpt1NhYRdeRqpNeSq6M+BeumgZ0sqXvk6qMrknFtQNKPJR0kaQtJXSSdRm4WwxtAN3KB8q9J29PJZbpN2ZrcL5S/Al0kXQZs0/L/LgDuIFemOIZcucSsJBx0s+k04L8i4oOIWLp2A24CTk6mSZ1H7p/dS8lldveQq6USEZ8CRwAnkqutLgV+TS5bbs7dwGHAA0kQXmsk8H4yU+AscjepmrKa3E2tpcBycvXdYyPivYiYlZx7GfgLsDu52m9TngQmkcvgFwB/Z8NywgYi4iWgAZgaEe+31t6svRThh5gbSPo10DMiTmu1cUZJega4OyLGlXssll3OdDdRyTzcPZQzGDgDeKTc4yoXSYOAvYD7yj0WyzYH3U3X1uTquivJ3dy6jtxd/E2OpN8DTwM/TkorZgBIuk3SMkkzmjkvSTdKmidpuqS9Wu3T5QUzs6ZJOhD4DLgjIja4eSvpKOCH5KZF7gOMjoh9WurTma6ZWTMi4nngwxaaDCcXkCMiXiE3LbO5lZJACvN01yx/z6m0bWCLXge03sg2OXWfL9pg7nVbtSXmbPbVf/oBMCrvUHVEVLfh43qz/uyY2uTYkube4MURZrbJSgJsW4JsY039kmgx6Dvomlm2NDS5/qZUall/hWUVubntzXJN18yypb6u8G3jPQacmsxi+Ba553Y0W1oAZ7pmljERDUXrS9I9wEHkni1SC1wOdM19TowBJpKbuTAPWAWc3lqfDrpmli0NxQu6EfG9Vs4HuSXrBXPQNbNsKWKmWwoOumaWLeneSGszB10zyxZnumZm6YnizEooGQddM8uWIt5IKwUHXTPLFpcXzMxS5BtpZmYpcqZrZpYi30gzM0uRb6SZmaUnwjVdM7P0uKZrZpYilxfMzFLkTNfMLEX1a8o9ghY56JpZtri8YGaWIpcXzMxS5EzXzCxFDrpmZukJ30gzM0uRa7pmZilyecHMLEXOdM3MUuRM18wsRc50zcxSVOeHmJuZpceZrplZilzTNTNLkTNdM7MUOdM1M0uRM10zsxR59oKZWYoiyj2CFjnomlm2uKZrZpYiB10zsxRV+I20TuUegJlZUdXXF761QtIQSXMlzZN0cRPnu0t6XNKbkmZKOr21Pp3pmlm2FKm8IKkzcDNwOFAL1Eh6LCJm5TU7F5gVEcMkfRWYK+muiPi8uX4ddM0sW4pX0x0MzIuI9wAk3QsMB/KDbgBbSxKwFfAh0OKcNZcXzCxboqHgTdIoSVPytlF5PfUGFubt1ybH8t0E7AosBt4Czo9ouajsTNfMMiUaCp+nGxHVQHUzp9XUWxrtHwlMAw4B/gl4StILEbGiuc90pmtm2dLQUPjWslqgT95+FbmMNt/pwMORMw+YD+zSUqcOumaWLcWbvVAD7Cypr6TNgBOBxxq1+QA4FEDSPwLfAN5rqVOXF8wsW4p0Iy0i6iSdBzwJdAZui4iZks5Kzo8BfgHcLuktcuWIiyJieUv9OuiaWbYUcUVaREwEJjY6Nibv9WLgiLb06fJCCi656noOPPpERpxyVrmHYiV25BEHMXPG88yZ9SI/u/DcJtvccP3PmTPrRaa+/hR7DtgNgKqqXjw9+QHemv4sb057hh+ed8a69pddegEL5k9hSs1kptRMZuiQQ1K5lg4rovCtDJzppmDEUYdz0rHH8H9/8R/lHoqVUKdOnbhx9K8YctT3qK1dwisvT+TxCZOZPfuddW2GDjmEnXfqyy799mefwXtx801Xs+/+w6irq+PCn13JG9NmsNVW3Xjt1Sd4+k/Pr3vv6BvHcv0Nt5br0jqWCn/2QkGZbrIyw9pp4IDd6b7N1uUehpXY4EF78u677zN//gesWbOG++9/lGOGHblem2HDjuTOux4E4NXXptK9R3d69tyOpUuX8ca0GQB89tlK5sx5h969eqZ+DZnQEIVvZVBoeWGepGsl9SvpaMw6sF69e7Kw9osZRbWLltCrUeDs3asntQu/aLOodskGwXWHHaoY0H83Xn3tjXXHzjn7dKa+/hRjq6+jR4/uJbqCjCjisxdKodCguwfwNjBO0ivJKo5tmmucv8pj3B33FGWgZpUutxJ0fdGobtham27dtuT++8ZywU8v59NPPwNgzK138PVd9mXvgUewdOkyrv3NZUUeebZEQ0PBWzkUVNONiE+BscBYSQcC9wA3SHoQ+EUyKTi//bpVHmuWv1fZj3E3K5JFtUvoU9Vr3X5V7+1ZsuQv67WpXbSEqj5ftOldtT2LkzZdunThgfvGcs89jzB+/KR1bZYt+2IG0rjf3cWj439fqkvIhjKVDQpVcE1X0jGSHgFGA9cBXwMep9F0CrNNVc2Uaey0U1923LEPXbt25fjjh/P4hMnrtZkwYTIjTz4OgH0G78WKT1awdOkyAMZWX8fsOfP47ej1V6X27Lndutcjhg9l5sy5Jb6SDq4Nz14oh0JnL7wD/DdwbUT8Oe/4g0nmay248PJrqHljOh9/vIJDR5zCOWeM5NhGN1is46uvr+f8H1/CxD/eTedOnbj99/cxa9bbjPq3kQBUj72TiZP+xJAhhzB39kusWr2aM8+8AID99h3EyFOOY/pbs5hSkwvUl156DZOeeIZrrr6E/v37EREsWFDL2edcVLZr7BAqPNNV45rTBg1yMxf+PSJ+3p4PcHnBmrJFrwPKPQSrQHWfL2rqITNtsvKyEwuOOd1+fu9Gf15btVpeiIh64OAUxmJmtvEyUl74s6SbgPuAlWsPRsTUkozKzKy9Kry8UGjQ3Tf5M7/EEOSeIWlmVjHKNRWsUIVOGXN5wcw6hoxkukg6GvgmsPnaY+29uWZmVjJZCLqSxgBbkruhNg44DnithOMyM2ufMi3vLVShy4D3jYhTgY8i4krg26z/NRZmZhUhGqLgrRwKLS+sTv5cJakX8Degb2mGZGa2EbJQXgAmSOoBXAtMJTdzYVypBmVm1m4Zmb3wi+TlQ5ImAJtHxCelG5aZWTt15ExX0r+0cI6IeLj4QzIz2wgdOegCw1o4F4CDrplVlKjvwOWFiDg9rYGYmRVFB8901/HiCDPrCMo1FaxQXhxhZtlS4UHXiyPMLFsa2rCVQaHlhb8nf65dHPEhXhxhZhUo6jrwjbQ8jzexOGJsqQZlZtZulR1zCw66c4D6iHhIUj9gL2B8yUZlZtZOlX4jrdCa7qUR8amk/YHDgduB/yzZqMzM2qvCa7qFBt21z0o7GhgTEY8Cm5VmSGZm7VfpTxkrNOguknQrcDwwUdKX2vBeM7P0ZCTTPR54EhgSER8DXwYuLNWgzMzaK+oK38qh0KeMrSLvOQsRsQRYUqpBmZm1V5m+Wb1gBS8DNjPrEBx0zczSU+mZrm+GmVmmREPhW2skDZE0V9I8SRc30+YgSdMkzZT0XGt9OtM1s0yJehWlH0mdgZvJrU2oBWokPRYRs/La9ABuITfJ4ANJ27XWrzNdM8uUIma6g4F5EfFeRHwO3AsMb9TmJODhiPgAICKWtdapg66ZZUo0qOCtFb2BhXn7tcmxfF8H/kHSs5Jel3Rqa526vGBmmdKWG2mSRgGj8g5VR0T12tNNdd9ovwuwN3AosAXwsqRXIuLt5j7TQdfMMiWi8JpuEmCrmzldy/rPDa8CFjfRZnlErARWSnoe6A80G3RdXjCzTCliTbcG2FlSX0mbAScCjzVq8yhwgKQukrYE9gFmt9SpM10zy5SGIs1eiIg6SeeRewRCZ+C2iJgp6azk/JiImC3pCWA6uWUZ4yJiRkv9KqK0T9pZs/y9yn64pZXFFr0OKPcQrALVfb5ooyPmgr0OKzjm7DD16eJE6DZwpmtmmVLArISyctA1s0wp8T/eN5qDrpllijNdM7MUtWXKWDk46JpZptQXafZCqTjomlmmONM1M0uRa7pmZiny7AUzsxQ50zUzS1F9Q2U/UsZB18wyxeUFM7MUNXj2gplZejxlzMwsRZt8ecGP8LOmrF78QrmHYBnl8oKZWYo8e8HMLEUVXl1w0DWzbHF5wcwsRZ69YGaWota/5Le8HHTNLFMCZ7pmZqmpc3nBzCw9znTNzFLkmq6ZWYqc6ZqZpciZrplZiuqd6ZqZpafCv63HQdfMsqXBma6ZWXr8wBszsxT5RpqZWYoa5PKCmVlq6ss9gFY46JpZpnj2gplZijx7wcwsRZU+e6Gyv8HNzKyNGlT41hpJQyTNlTRP0sUttBskqV7Sca316aBrZpnS0IatJZI6AzcDQ4F+wPck9Wum3a+BJwsZn4OumWVKvQrfWjEYmBcR70XE58C9wPAm2v0QeAhYVsj4HHTNLFPakulKGiVpSt42Kq+r3sDCvP3a5Ng6knoD3wXGFDo+30gzs0xpy4q0iKgGqps53VQu3Pg+3W+BiyKiXgUuynDQNbNMKeJXpNUCffL2q4DFjdoMBO5NAu62wFGS6iJifHOdOuiaWaYU8dkLNcDOkvoCi4ATgZPyG0RE37WvJd0OTGgp4IKDrpllTLGWAUdEnaTzyM1K6AzcFhEzJZ2VnC+4jpvPQdfMMqWYy4AjYiIwsdGxJoNtRHy/kD4ddM0sU/xoRzOzFDnompmlqNKfveCga2aZ4kc7mpmlyA8xNzNLUUOFFxgcdM0sU3wjzcwsRZWd5zromlnGONM1M0tRnSo713XQNbNMqeyQ66BrZhnj8oKZWYo8ZczMLEWVHXIddM0sY1xeMDNLUX2F57oOumaWKc50zcxSFM50zczSU+mZbqdyD6CjOvKIg5g543nmzHqRn114bpNtbrj+58yZ9SJTX3+KPQfsBkBVVS+envwAb01/ljenPcMPzztjXfvLLr2ABfOnMKVmMlNqJjN0yCGpXIuVxyVXXc+BR5/IiFPOKvdQMqWBKHgrBwfddujUqRM3jv4V/zzsFHbvfzAnnDCCXXfdeb02Q4ccws479WWXfvtz9tkXcfNNVwNQV1fHhT+7kt33OIj99h/G2Wd/f733jr5xLAMHHcHAQUcw6YlnUr0uS9eIow5nzPW/LPcwMifasJWDg247DB60J++++z7z53/AmjVruP/+Rzlm2JHrtRk27EjuvOtBAF59bSrde3SnZ8/tWLp0GW9MmwHAZ5+tZM6cd+jdq2fq12DlN3DA7nTfZutyDyNz6oiCt3JoU9CV1K1UA+lIevXuycLaxev2axctoVejwNm7V09qF37RZlHtkg2C6w47VDGg/268+tob646dc/bpTH39KcZWX0ePHt1LdAVm2RVt+K8cCgq6kvaVNAuYnez3l3RLC+1HSZoiaUpDw8oiDbVySBt+CVNEtKlNt25bcv99Y7ngp5fz6aefATDm1jv4+i77svfAI1i6dBnX/uayIo/cLPsa2rCVQ6GZ7g3AkcDfACLiTeDA5hpHRHVEDIyIgZ06ZS85XlS7hD5VvdbtV/XeniVL/rJem9pFS6jq80Wb3lXbszhp06VLFx64byz33PMI48dPWtdm2bLlNDQ0EBGM+91dDBo0oLQXYpZBmch0ASJiYaNDlf79byVTM2UaO+3Ulx137EPXrl05/vjhPD5h8nptJkyYzMiTjwNgn8F7seKTFSxdugyAsdXXMXvOPH47unq99/Tsud261yOGD2XmzLklvhKz7Kn0TLfQeboLJe0LhKTNgB+RlBo2RfX19Zz/40uY+Me76dypE7f//j5mzXqbUf82EoDqsXcycdKfGDLkEObOfolVq1dz5pkXALDfvoMYecpxTH9rFlNqcoH60kuvYdITz3DN1ZfQv38/IoIFC2o5+5yLynaNVnoXXn4NNW9M5+OPV3DoiFM454yRHNvohqy1XX1U9uIINa5FNtlI2hYYDRwGCJgMnB8Rf2vtvV02613Z/wesLFYvfqHcQ7AK1HXbr214M6SNTtrhuwXHnLsXPLLRn9dWBWW6EbEcOLnEYzEz22iZWAYs6cYmDn8CTImIR4s7JDOz9svKMuDNgQHAO8m2B/Bl4AxJvy3JyMzM2qHSlwEXeiNtJ+CQiKgDkPSf5Oq6hwNvlWhsZmZtlonyAtAb6EaupEDyuldE1Ev6n5KMzMysHSp99kKhQfc3wDRJz5KbvXAgcFWyLPjpEo3NzKzNMvHFlBHxO0mTgJHAHHKlhdqIWAlcWMLxmZm1SaXfSCt09sKZwPlAFTAN+BbwMuAHvppZRan0mm6hsxfOBwYBCyLiYGBP4K8lG5WZWTsVc/aCpCGS5kqaJ+niJs6fLGl6sv1ZUv/W+iy0pvv3iPi7JCR9KSLmSPpGge81M0tNIatsCyGpM3AzuVlatUCNpMciYlZes/nAdyLiI0lDgWpgn5b6LTTo1krqAYwHnpL0EbC4xXeYmZVBEb+CfTAwLyLeA5B0LzAcWBd0I+LPee1fIVeCbVGhN9K+m7y8QtJ/A92BJwobt5lZetoye0HSKGBU3qHqiFj7+L/eQP7TFWtpOYs9A5jUwnmgHd8GHBHPtfU9ZmZpaUt5IQmw1c2cbuphOE12LulgckF3/9Y+01/BbmaZUsR5urVAn7z9Kpooq0raAxgHDC3kyYv+Ykozy5QifnNEDbCzpL7Jc8RPBB7LbyDpfwEPAyMj4u1CxudM18wypVjLgCOiTtJ5wJNAZ+C2iJgp6azk/BjgMuArwC3J9yLWRcTAlvp10DWzTCnmMuCImAhMbHRsTN7rM4Ez29Kng66ZZUomnr1gZtZRFGtxRKk46JpZpjjTNTNLUaU/8MZB18wypT4q++GODrpmlimu6ZqZpcg1XTOzFLmma2aWogaXF8zM0uNM18wsRZ69YGaWIpcXzMxS5PKCmVmKnOmamaXIma6ZWYrqo77cQ2iRg66ZZYqXAZuZpcjLgM3MUuRM18wsRZ69YGaWIs9eMDNLkZcBm5mlyDVdM7MUuaZrZpYiZ7pmZinyPF0zsxQ50zUzS5FnL5iZpcg30szMUuTygplZirwizcwsRc50zcxSVOk1XVX6b4UskTQqIqrLPQ6rLP652LR0KvcANjGjyj0Aq0j+udiEOOiamaXIQdfMLEUOuuly3c6a4p+LTYhvpJmZpciZrplZihx0zcxS5KBbYpJul3RcucdhZpXBQbfCSPIqQbMMc9BtB0ndJP1R0puSZkg6QdJlkmqS/WpJauJ9TbaR9KykqyQ9B/y7pPmSuibntpH0/tp963gkjZf0uqSZkkYlx86Q9Hbydz9W0k3J8a9Keij5OamRtF95R2/F5qDbPkOAxRHRPyJ2A54AboqIQcn+FsA/N/G+ltr0iIjvRMSVwLPA0cnxE4GHImJNqS7GSu5fI2JvYCDwI0m9gUuBbwGHA7vktR0N3BARg4BjgXFpD9ZKy0G3fd4CDpP0a0kHRMQnwMGSXpX0FnAI8M0m3tdSm/vyXo8DTk9enw78V/EvwVL0I0lvAq8AfYCRwHMR8WHyy/SBvLaHATdJmgY8Bmwjaeu0B2yl4/phO0TE25L2Bo4CrpY0GTgXGBgRCyVdAWye/x5JmwO3tNBmZV7/L0naUdJ3gM4RMaO0V2SlIukgcoH02xGxStKzwFxg12be0ilpuzqVAVrqnOm2g6RewKqI+APwH8BeyanlkrYCmpqtsHkBbfLdAdyDs9yOrjvwURJwdyFXUtgS+I6kf0hunB6b134ycN7aHUkD0hyslZ4z3fbZHbhWUgOwBjgbGEGu7PA+UNP4DRHxsaSxLbVp5C7gl+QCr3VcTwBnSZpOLsN9BVgEXAW8CiwGZgGfJO1/BNyctO8CPA+clfagrXS8DLhCJXN7h0fEyHKPxYpP0lYR8VmS6T4C3BYRj5R7XFZ6znQrkKT/BwwlVzO2bLpC0mHkyk6TgfHlHY6lxZmumVmKfCPNzCxFDrpmZily0DUzS5GDrplZihx0zcxS9P8B55mVKWoyq94AAAAASUVORK5CYII=\n",
      "text/plain": [
       "<Figure size 432x288 with 2 Axes>"
      ]
     },
     "metadata": {
      "needs_background": "light"
     },
     "output_type": "display_data"
    }
   ],
   "source": [
    "ax = plt.axes()\n",
    "data = df[['salary','age']].corr()\n",
    "sns.heatmap(data,annot=True)\n",
    "ax.set_title(\"Age vs Salary\")\n",
    "plt.show()"
   ]
  },
  {
   "cell_type": "code",
   "execution_count": 39,
   "metadata": {},
   "outputs": [
    {
     "data": {
      "image/png": "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\n",
      "text/plain": [
       "<Figure size 432x288 with 2 Axes>"
      ]
     },
     "metadata": {
      "needs_background": "light"
     },
     "output_type": "display_data"
    }
   ],
   "source": [
    "ax = plt.axes()\n",
    "data = df[['salary','age']].corr()\n",
    "sns.heatmap(data,annot=True)\n",
    "ax.set_title(\"Age vs Salary\")\n",
    "plt.show()"
   ]
  },
  {
   "cell_type": "markdown",
   "metadata": {},
   "source": [
    "### Comparing Numeric-Categorical data types:\n",
    "    \n",
    " - Mean\n",
    " - Median\n",
    " - Box Plots"
   ]
  },
  {
   "cell_type": "markdown",
   "metadata": {},
   "source": [
    "#### Mean"
   ]
  },
  {
   "cell_type": "code",
   "execution_count": 40,
   "metadata": {
    "scrolled": true
   },
   "outputs": [
    {
     "data": {
      "text/plain": [
       "response\n",
       "no     56770.917933\n",
       "yes    58771.704180\n",
       "Name: salary, dtype: float64"
      ]
     },
     "execution_count": 40,
     "metadata": {},
     "output_type": "execute_result"
    },
    {
     "data": {
      "image/png": "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\n",
      "text/plain": [
       "<Figure size 432x288 with 1 Axes>"
      ]
     },
     "metadata": {
      "needs_background": "light"
     },
     "output_type": "display_data"
    }
   ],
   "source": [
    "df.groupby('response')['salary'].mean().plot.barh()\n",
    "df.groupby('response')['salary'].mean()"
   ]
  },
  {
   "cell_type": "code",
   "execution_count": 41,
   "metadata": {},
   "outputs": [
    {
     "data": {
      "text/plain": [
       "response\n",
       "no     1304.094525\n",
       "yes    1804.832041\n",
       "Name: balance, dtype: float64"
      ]
     },
     "execution_count": 41,
     "metadata": {},
     "output_type": "execute_result"
    },
    {
     "data": {
      "image/png": "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\n",
      "text/plain": [
       "<Figure size 432x288 with 1 Axes>"
      ]
     },
     "metadata": {
      "needs_background": "light"
     },
     "output_type": "display_data"
    }
   ],
   "source": [
    "df.groupby('response')['balance'].mean().plot.barh()\n",
    "df.groupby('response')['balance'].mean()"
   ]
  },
  {
   "cell_type": "markdown",
   "metadata": {},
   "source": [
    "#### Median"
   ]
  },
  {
   "cell_type": "code",
   "execution_count": 42,
   "metadata": {
    "scrolled": false
   },
   "outputs": [
    {
     "data": {
      "text/plain": [
       "response\n",
       "no     60000\n",
       "yes    60000\n",
       "Name: salary, dtype: int64"
      ]
     },
     "execution_count": 42,
     "metadata": {},
     "output_type": "execute_result"
    },
    {
     "data": {
      "image/png": "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\n",
      "text/plain": [
       "<Figure size 432x288 with 1 Axes>"
      ]
     },
     "metadata": {
      "needs_background": "light"
     },
     "output_type": "display_data"
    }
   ],
   "source": [
    "df.groupby('response')['salary'].median().plot.barh()\n",
    "df.groupby('response')['salary'].median()"
   ]
  },
  {
   "cell_type": "code",
   "execution_count": 43,
   "metadata": {},
   "outputs": [
    {
     "data": {
      "text/plain": [
       "response\n",
       "no     417\n",
       "yes    733\n",
       "Name: balance, dtype: int64"
      ]
     },
     "execution_count": 43,
     "metadata": {},
     "output_type": "execute_result"
    },
    {
     "data": {
      "image/png": "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\n",
      "text/plain": [
       "<Figure size 432x288 with 1 Axes>"
      ]
     },
     "metadata": {
      "needs_background": "light"
     },
     "output_type": "display_data"
    }
   ],
   "source": [
    "df.groupby('response')['balance'].median().plot.barh()\n",
    "df.groupby('response')['balance'].median()"
   ]
  },
  {
   "cell_type": "markdown",
   "metadata": {},
   "source": [
    "#### Boxplots"
   ]
  },
  {
   "cell_type": "code",
   "execution_count": 44,
   "metadata": {},
   "outputs": [
    {
     "data": {
      "image/png": "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\n",
      "text/plain": [
       "<Figure size 432x288 with 1 Axes>"
      ]
     },
     "metadata": {
      "needs_background": "light"
     },
     "output_type": "display_data"
    }
   ],
   "source": [
    "ax = plt.axes()\n",
    "sns.boxplot(x = df.response,y = df.salary)\n",
    "ax.set_title(\"Salary vs Response\")\n",
    "plt.show()"
   ]
  },
  {
   "cell_type": "code",
   "execution_count": 45,
   "metadata": {},
   "outputs": [
    {
     "data": {
      "image/png": "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\n",
      "text/plain": [
       "<Figure size 432x288 with 1 Axes>"
      ]
     },
     "metadata": {
      "needs_background": "light"
     },
     "output_type": "display_data"
    }
   ],
   "source": [
    "ax = plt.axes()\n",
    "sns.boxplot(x = df.response,y = df.balance)\n",
    "ax.set_title(\"Balance vs Response\")\n",
    "plt.show()"
   ]
  },
  {
   "cell_type": "markdown",
   "metadata": {},
   "source": [
    "### Three numeric features:\n",
    "    \n",
    "- Using correlation matrix (for numeric data type)\n",
    "- Pair Plot\n",
    "       \n"
   ]
  },
  {
   "cell_type": "markdown",
   "metadata": {},
   "source": [
    "### Correlation Matrix"
   ]
  },
  {
   "cell_type": "code",
   "execution_count": 46,
   "metadata": {
    "scrolled": true
   },
   "outputs": [
    {
     "data": {
      "image/png": "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
